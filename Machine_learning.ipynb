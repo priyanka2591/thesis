{
  "nbformat": 4,
  "nbformat_minor": 0,
  "metadata": {
    "kernelspec": {
      "display_name": "Python 3",
      "language": "python",
      "name": "python3"
    },
    "language_info": {
      "codemirror_mode": {
        "name": "ipython",
        "version": 3
      },
      "file_extension": ".py",
      "mimetype": "text/x-python",
      "name": "python",
      "nbconvert_exporter": "python",
      "pygments_lexer": "ipython3",
      "version": "3.8.3"
    },
    "colab": {
      "name": "Machine learning.ipynb",
      "provenance": [],
      "collapsed_sections": [
        "SC1TI_gLUXF4",
        "--ivrxPlnrUA"
      ],
      "machine_shape": "hm",
      "include_colab_link": true
    },
    "accelerator": "GPU",
    "widgets": {
      "application/vnd.jupyter.widget-state+json": {
        "a9d62ed074284f5088df94080e66d457": {
          "model_module": "@jupyter-widgets/controls",
          "model_name": "IntProgressModel",
          "state": {
            "_view_name": "ProgressView",
            "style": "IPY_MODEL_7098b2ea3012452bb9723eae33ced423",
            "_dom_classes": [],
            "description": "Processing: ",
            "_model_name": "IntProgressModel",
            "bar_style": "",
            "max": 3,
            "_view_module": "@jupyter-widgets/controls",
            "_model_module_version": "1.5.0",
            "value": 3,
            "_view_count": null,
            "_view_module_version": "1.5.0",
            "orientation": "horizontal",
            "min": 0,
            "description_tooltip": null,
            "_model_module": "@jupyter-widgets/controls",
            "layout": "IPY_MODEL_3097b6cddddc492a9238f2344b830f37"
          }
        },
        "7098b2ea3012452bb9723eae33ced423": {
          "model_module": "@jupyter-widgets/controls",
          "model_name": "ProgressStyleModel",
          "state": {
            "_view_name": "StyleView",
            "_model_name": "ProgressStyleModel",
            "description_width": "",
            "_view_module": "@jupyter-widgets/base",
            "_model_module_version": "1.5.0",
            "_view_count": null,
            "_view_module_version": "1.2.0",
            "bar_color": null,
            "_model_module": "@jupyter-widgets/controls"
          }
        },
        "3097b6cddddc492a9238f2344b830f37": {
          "model_module": "@jupyter-widgets/base",
          "model_name": "LayoutModel",
          "state": {
            "_view_name": "LayoutView",
            "grid_template_rows": null,
            "right": null,
            "justify_content": null,
            "_view_module": "@jupyter-widgets/base",
            "overflow": null,
            "_model_module_version": "1.2.0",
            "_view_count": null,
            "flex_flow": null,
            "width": null,
            "min_width": null,
            "border": null,
            "align_items": null,
            "bottom": null,
            "_model_module": "@jupyter-widgets/base",
            "top": null,
            "grid_column": null,
            "overflow_y": null,
            "overflow_x": null,
            "grid_auto_flow": null,
            "grid_area": null,
            "grid_template_columns": null,
            "flex": null,
            "_model_name": "LayoutModel",
            "justify_items": null,
            "grid_row": null,
            "max_height": null,
            "align_content": null,
            "visibility": null,
            "align_self": null,
            "height": null,
            "min_height": null,
            "padding": null,
            "grid_auto_rows": null,
            "grid_gap": null,
            "max_width": null,
            "order": null,
            "_view_module_version": "1.2.0",
            "grid_template_areas": null,
            "object_position": null,
            "object_fit": null,
            "grid_auto_columns": null,
            "margin": null,
            "display": null,
            "left": null
          }
        },
        "c95fb10b29d44a5f97fa44b0b20fb38e": {
          "model_module": "@jupyter-widgets/controls",
          "model_name": "TextModel",
          "state": {
            "_view_name": "TextView",
            "style": "IPY_MODEL_6ac713c0dd014dccbe48fc209730238c",
            "_dom_classes": [],
            "description": "",
            "_model_name": "TextModel",
            "placeholder": "​",
            "_view_module": "@jupyter-widgets/controls",
            "_model_module_version": "1.5.0",
            "value": "Following data types have been inferred automatically, if they are correct press enter to continue or type 'quit' otherwise.",
            "_view_count": null,
            "disabled": false,
            "_view_module_version": "1.5.0",
            "continuous_update": true,
            "description_tooltip": null,
            "_model_module": "@jupyter-widgets/controls",
            "layout": "IPY_MODEL_f2290548d824461ebb08d9df83aef616"
          }
        },
        "6ac713c0dd014dccbe48fc209730238c": {
          "model_module": "@jupyter-widgets/controls",
          "model_name": "DescriptionStyleModel",
          "state": {
            "_view_name": "StyleView",
            "_model_name": "DescriptionStyleModel",
            "description_width": "",
            "_view_module": "@jupyter-widgets/base",
            "_model_module_version": "1.5.0",
            "_view_count": null,
            "_view_module_version": "1.2.0",
            "_model_module": "@jupyter-widgets/controls"
          }
        },
        "f2290548d824461ebb08d9df83aef616": {
          "model_module": "@jupyter-widgets/base",
          "model_name": "LayoutModel",
          "state": {
            "_view_name": "LayoutView",
            "grid_template_rows": null,
            "right": null,
            "justify_content": null,
            "_view_module": "@jupyter-widgets/base",
            "overflow": null,
            "_model_module_version": "1.2.0",
            "_view_count": null,
            "flex_flow": null,
            "width": "100%",
            "min_width": null,
            "border": null,
            "align_items": null,
            "bottom": null,
            "_model_module": "@jupyter-widgets/base",
            "top": null,
            "grid_column": null,
            "overflow_y": null,
            "overflow_x": null,
            "grid_auto_flow": null,
            "grid_area": null,
            "grid_template_columns": null,
            "flex": null,
            "_model_name": "LayoutModel",
            "justify_items": null,
            "grid_row": null,
            "max_height": null,
            "align_content": null,
            "visibility": null,
            "align_self": null,
            "height": null,
            "min_height": null,
            "padding": null,
            "grid_auto_rows": null,
            "grid_gap": null,
            "max_width": null,
            "order": null,
            "_view_module_version": "1.2.0",
            "grid_template_areas": null,
            "object_position": null,
            "object_fit": null,
            "grid_auto_columns": null,
            "margin": null,
            "display": null,
            "left": null
          }
        },
        "8b63b6dbc53549908763c97bf2fdae26": {
          "model_module": "@jupyter-widgets/controls",
          "model_name": "IntProgressModel",
          "state": {
            "_view_name": "ProgressView",
            "style": "IPY_MODEL_2208fc6b947e4369afe2f438594d84e7",
            "_dom_classes": [],
            "description": "Processing: ",
            "_model_name": "IntProgressModel",
            "bar_style": "",
            "max": 69,
            "_view_module": "@jupyter-widgets/controls",
            "_model_module_version": "1.5.0",
            "value": 69,
            "_view_count": null,
            "_view_module_version": "1.5.0",
            "orientation": "horizontal",
            "min": 0,
            "description_tooltip": null,
            "_model_module": "@jupyter-widgets/controls",
            "layout": "IPY_MODEL_92bd6f7ce3f6458ebe0c967f1d97e9ce"
          }
        },
        "2208fc6b947e4369afe2f438594d84e7": {
          "model_module": "@jupyter-widgets/controls",
          "model_name": "ProgressStyleModel",
          "state": {
            "_view_name": "StyleView",
            "_model_name": "ProgressStyleModel",
            "description_width": "",
            "_view_module": "@jupyter-widgets/base",
            "_model_module_version": "1.5.0",
            "_view_count": null,
            "_view_module_version": "1.2.0",
            "bar_color": null,
            "_model_module": "@jupyter-widgets/controls"
          }
        },
        "92bd6f7ce3f6458ebe0c967f1d97e9ce": {
          "model_module": "@jupyter-widgets/base",
          "model_name": "LayoutModel",
          "state": {
            "_view_name": "LayoutView",
            "grid_template_rows": null,
            "right": null,
            "justify_content": null,
            "_view_module": "@jupyter-widgets/base",
            "overflow": null,
            "_model_module_version": "1.2.0",
            "_view_count": null,
            "flex_flow": null,
            "width": null,
            "min_width": null,
            "border": null,
            "align_items": null,
            "bottom": null,
            "_model_module": "@jupyter-widgets/base",
            "top": null,
            "grid_column": null,
            "overflow_y": null,
            "overflow_x": null,
            "grid_auto_flow": null,
            "grid_area": null,
            "grid_template_columns": null,
            "flex": null,
            "_model_name": "LayoutModel",
            "justify_items": null,
            "grid_row": null,
            "max_height": null,
            "align_content": null,
            "visibility": null,
            "align_self": null,
            "height": null,
            "min_height": null,
            "padding": null,
            "grid_auto_rows": null,
            "grid_gap": null,
            "max_width": null,
            "order": null,
            "_view_module_version": "1.2.0",
            "grid_template_areas": null,
            "object_position": null,
            "object_fit": null,
            "grid_auto_columns": null,
            "margin": null,
            "display": null,
            "left": null
          }
        }
      }
    }
  },
  "cells": [
    {
      "cell_type": "markdown",
      "metadata": {
        "id": "view-in-github",
        "colab_type": "text"
      },
      "source": [
        "<a href=\"https://colab.research.google.com/github/priyanka2591/thesis/blob/main/Machine_learning.ipynb\" target=\"_parent\"><img src=\"https://colab.research.google.com/assets/colab-badge.svg\" alt=\"Open In Colab\"/></a>"
      ]
    },
    {
      "cell_type": "markdown",
      "metadata": {
        "id": "oKcAILtqUXFy"
      },
      "source": [
        "### <p style = \"text-align:center\"><font color  = 'blue'> Thesis Dissertation - Masters"
      ]
    },
    {
      "cell_type": "markdown",
      "metadata": {
        "id": "SC1TI_gLUXF4"
      },
      "source": [
        "#### Importing libraries"
      ]
    },
    {
      "cell_type": "code",
      "metadata": {
        "colab": {
          "base_uri": "https://localhost:8080/"
        },
        "id": "stW6CMa03auJ",
        "outputId": "d3cbf91c-197a-41c1-89ec-4bb2e2d3a420"
      },
      "source": [
        "pip install pycaret"
      ],
      "execution_count": 2,
      "outputs": [
        {
          "output_type": "stream",
          "text": [
            "Collecting pycaret\n",
            "\u001b[?25l  Downloading https://files.pythonhosted.org/packages/da/99/18f151991b0f06107af9723417c64e304ae2133587f85ea734a90136b4ae/pycaret-2.3.1-py3-none-any.whl (261kB)\n",
            "\u001b[K     |████████████████████████████████| 266kB 3.1MB/s \n",
            "\u001b[?25hCollecting lightgbm>=2.3.1\n",
            "\u001b[?25l  Downloading https://files.pythonhosted.org/packages/18/b2/fff8370f48549ce223f929fe8cab4ee6bf285a41f86037d91312b48ed95b/lightgbm-3.2.1-py3-none-manylinux1_x86_64.whl (2.0MB)\n",
            "\u001b[K     |████████████████████████████████| 2.0MB 15.6MB/s \n",
            "\u001b[?25hCollecting Boruta\n",
            "\u001b[?25l  Downloading https://files.pythonhosted.org/packages/b2/11/583f4eac99d802c79af9217e1eff56027742a69e6c866b295cce6a5a8fc2/Boruta-0.3-py3-none-any.whl (56kB)\n",
            "\u001b[K     |████████████████████████████████| 61kB 6.2MB/s \n",
            "\u001b[?25hRequirement already satisfied: numpy==1.19.5 in /usr/local/lib/python3.7/dist-packages (from pycaret) (1.19.5)\n",
            "Requirement already satisfied: plotly>=4.4.1 in /usr/local/lib/python3.7/dist-packages (from pycaret) (4.4.1)\n",
            "Collecting mlflow\n",
            "\u001b[?25l  Downloading https://files.pythonhosted.org/packages/78/95/66f2e43a3662b27409fdce1775e1fbe8fdb5557140467d9e6654a87cc22e/mlflow-1.17.0-py3-none-any.whl (14.2MB)\n",
            "\u001b[K     |████████████████████████████████| 14.2MB 20.8MB/s \n",
            "\u001b[?25hRequirement already satisfied: seaborn in /usr/local/lib/python3.7/dist-packages (from pycaret) (0.11.1)\n",
            "Collecting kmodes>=0.10.1\n",
            "  Downloading https://files.pythonhosted.org/packages/9b/34/fffc601aa4d44b94e945a7cc72f477e09dffa7dce888898f2ffd9f4e343e/kmodes-0.11.0-py2.py3-none-any.whl\n",
            "Requirement already satisfied: wordcloud in /usr/local/lib/python3.7/dist-packages (from pycaret) (1.5.0)\n",
            "Collecting scikit-plot\n",
            "  Downloading https://files.pythonhosted.org/packages/7c/47/32520e259340c140a4ad27c1b97050dd3254fdc517b1d59974d47037510e/scikit_plot-0.3.7-py3-none-any.whl\n",
            "Requirement already satisfied: scipy<=1.5.4 in /usr/local/lib/python3.7/dist-packages (from pycaret) (1.4.1)\n",
            "Collecting yellowbrick>=1.0.1\n",
            "\u001b[?25l  Downloading https://files.pythonhosted.org/packages/3a/15/58feb940b6a2f52d3335cccf9e5d00704ec5ba62782da83f7e2abeca5e4b/yellowbrick-1.3.post1-py3-none-any.whl (271kB)\n",
            "\u001b[K     |████████████████████████████████| 276kB 39.9MB/s \n",
            "\u001b[?25hRequirement already satisfied: matplotlib in /usr/local/lib/python3.7/dist-packages (from pycaret) (3.2.2)\n",
            "Requirement already satisfied: joblib in /usr/local/lib/python3.7/dist-packages (from pycaret) (1.0.1)\n",
            "Collecting pyod\n",
            "\u001b[?25l  Downloading https://files.pythonhosted.org/packages/5c/3c/992cf76fd71e5438b2e5400a417ef433e2b1a726570e692102afcacfda33/pyod-0.8.8.tar.gz (102kB)\n",
            "\u001b[K     |████████████████████████████████| 112kB 45.1MB/s \n",
            "\u001b[?25hRequirement already satisfied: pandas in /usr/local/lib/python3.7/dist-packages (from pycaret) (1.1.5)\n",
            "Collecting umap-learn\n",
            "\u001b[?25l  Downloading https://files.pythonhosted.org/packages/75/69/85e7f950bb75792ad5d666d86c5f3e62eedbb942848e7e3126513af9999c/umap-learn-0.5.1.tar.gz (80kB)\n",
            "\u001b[K     |████████████████████████████████| 81kB 9.5MB/s \n",
            "\u001b[?25hRequirement already satisfied: ipywidgets in /usr/local/lib/python3.7/dist-packages (from pycaret) (7.6.3)\n",
            "Collecting mlxtend>=0.17.0\n",
            "\u001b[?25l  Downloading https://files.pythonhosted.org/packages/86/30/781c0b962a70848db83339567ecab656638c62f05adb064cb33c0ae49244/mlxtend-0.18.0-py2.py3-none-any.whl (1.3MB)\n",
            "\u001b[K     |████████████████████████████████| 1.4MB 47.5MB/s \n",
            "\u001b[?25hRequirement already satisfied: gensim<4.0.0 in /usr/local/lib/python3.7/dist-packages (from pycaret) (3.6.0)\n",
            "Requirement already satisfied: cufflinks>=0.17.0 in /usr/local/lib/python3.7/dist-packages (from pycaret) (0.17.3)\n",
            "Requirement already satisfied: nltk in /usr/local/lib/python3.7/dist-packages (from pycaret) (3.2.5)\n",
            "Collecting imbalanced-learn==0.7.0\n",
            "\u001b[?25l  Downloading https://files.pythonhosted.org/packages/c8/81/8db4d87b03b998fda7c6f835d807c9ae4e3b141f978597b8d7f31600be15/imbalanced_learn-0.7.0-py3-none-any.whl (167kB)\n",
            "\u001b[K     |████████████████████████████████| 174kB 48.3MB/s \n",
            "\u001b[?25hCollecting scikit-learn==0.23.2\n",
            "\u001b[?25l  Downloading https://files.pythonhosted.org/packages/f4/cb/64623369f348e9bfb29ff898a57ac7c91ed4921f228e9726546614d63ccb/scikit_learn-0.23.2-cp37-cp37m-manylinux1_x86_64.whl (6.8MB)\n",
            "\u001b[K     |████████████████████████████████| 6.8MB 43.5MB/s \n",
            "\u001b[?25hCollecting pyLDAvis\n",
            "\u001b[?25l  Downloading https://files.pythonhosted.org/packages/03/a5/15a0da6b0150b8b68610cc78af80364a80a9a4c8b6dd5ee549b8989d4b60/pyLDAvis-3.3.1.tar.gz (1.7MB)\n",
            "\u001b[K     |████████████████████████████████| 1.7MB 44.5MB/s \n",
            "\u001b[?25h  Installing build dependencies ... \u001b[?25l\u001b[?25hdone\n",
            "  Getting requirements to build wheel ... \u001b[?25l\u001b[?25hdone\n",
            "  Installing backend dependencies ... \u001b[?25l\u001b[?25hdone\n",
            "    Preparing wheel metadata ... \u001b[?25l\u001b[?25hdone\n",
            "Requirement already satisfied: spacy<2.4.0 in /usr/local/lib/python3.7/dist-packages (from pycaret) (2.2.4)\n",
            "Requirement already satisfied: textblob in /usr/local/lib/python3.7/dist-packages (from pycaret) (0.15.3)\n",
            "Requirement already satisfied: IPython in /usr/local/lib/python3.7/dist-packages (from pycaret) (5.5.0)\n",
            "Collecting pandas-profiling>=2.8.0\n",
            "\u001b[?25l  Downloading https://files.pythonhosted.org/packages/3b/a3/34519d16e5ebe69bad30c5526deea2c3912634ced7f9b5e6e0bb9dbbd567/pandas_profiling-3.0.0-py2.py3-none-any.whl (248kB)\n",
            "\u001b[K     |████████████████████████████████| 256kB 37.5MB/s \n",
            "\u001b[?25hRequirement already satisfied: wheel in /usr/local/lib/python3.7/dist-packages (from lightgbm>=2.3.1->pycaret) (0.36.2)\n",
            "Requirement already satisfied: six in /usr/local/lib/python3.7/dist-packages (from plotly>=4.4.1->pycaret) (1.15.0)\n",
            "Requirement already satisfied: retrying>=1.3.3 in /usr/local/lib/python3.7/dist-packages (from plotly>=4.4.1->pycaret) (1.3.3)\n",
            "Collecting docker>=4.0.0\n",
            "\u001b[?25l  Downloading https://files.pythonhosted.org/packages/b2/5a/f988909dfed18c1ac42ad8d9e611e6c5657e270aa6eb68559985dbb69c13/docker-5.0.0-py2.py3-none-any.whl (146kB)\n",
            "\u001b[K     |████████████████████████████████| 153kB 48.1MB/s \n",
            "\u001b[?25hRequirement already satisfied: protobuf>=3.6.0 in /usr/local/lib/python3.7/dist-packages (from mlflow->pycaret) (3.12.4)\n",
            "Collecting gunicorn; platform_system != \"Windows\"\n",
            "\u001b[?25l  Downloading https://files.pythonhosted.org/packages/e4/dd/5b190393e6066286773a67dfcc2f9492058e9b57c4867a95f1ba5caf0a83/gunicorn-20.1.0-py3-none-any.whl (79kB)\n",
            "\u001b[K     |████████████████████████████████| 81kB 9.6MB/s \n",
            "\u001b[?25hCollecting prometheus-flask-exporter\n",
            "  Downloading https://files.pythonhosted.org/packages/f3/c1/2cc385fadf18dc75fe24c18899269eda4dcc60221d61eff7da4a6cc5c01d/prometheus_flask_exporter-0.18.2.tar.gz\n",
            "Requirement already satisfied: cloudpickle in /usr/local/lib/python3.7/dist-packages (from mlflow->pycaret) (1.3.0)\n",
            "Requirement already satisfied: entrypoints in /usr/local/lib/python3.7/dist-packages (from mlflow->pycaret) (0.3)\n",
            "Requirement already satisfied: requests>=2.17.3 in /usr/local/lib/python3.7/dist-packages (from mlflow->pycaret) (2.23.0)\n",
            "Requirement already satisfied: sqlparse>=0.3.1 in /usr/local/lib/python3.7/dist-packages (from mlflow->pycaret) (0.4.1)\n",
            "Collecting databricks-cli>=0.8.7\n",
            "\u001b[?25l  Downloading https://files.pythonhosted.org/packages/bc/af/631375abc29e59cedfa4467a5f7755503ba19898890751e1f2636ef02f92/databricks-cli-0.14.3.tar.gz (54kB)\n",
            "\u001b[K     |████████████████████████████████| 61kB 7.6MB/s \n",
            "\u001b[?25hRequirement already satisfied: sqlalchemy in /usr/local/lib/python3.7/dist-packages (from mlflow->pycaret) (1.4.15)\n",
            "Collecting alembic<=1.4.1\n",
            "\u001b[?25l  Downloading https://files.pythonhosted.org/packages/e0/e9/359dbb77c35c419df0aedeb1d53e71e7e3f438ff64a8fdb048c907404de3/alembic-1.4.1.tar.gz (1.1MB)\n",
            "\u001b[K     |████████████████████████████████| 1.1MB 41.8MB/s \n",
            "\u001b[?25hCollecting querystring-parser\n",
            "  Downloading https://files.pythonhosted.org/packages/88/6b/572b2590fd55114118bf08bde63c0a421dcc82d593700f3e2ad89908a8a9/querystring_parser-1.2.4-py2.py3-none-any.whl\n",
            "Requirement already satisfied: pytz in /usr/local/lib/python3.7/dist-packages (from mlflow->pycaret) (2018.9)\n",
            "Requirement already satisfied: click>=7.0 in /usr/local/lib/python3.7/dist-packages (from mlflow->pycaret) (7.1.2)\n",
            "Requirement already satisfied: pyyaml in /usr/local/lib/python3.7/dist-packages (from mlflow->pycaret) (3.13)\n",
            "Collecting gitpython>=2.1.0\n",
            "\u001b[?25l  Downloading https://files.pythonhosted.org/packages/27/da/6f6224fdfc47dab57881fe20c0d1bc3122be290198ba0bf26a953a045d92/GitPython-3.1.17-py3-none-any.whl (166kB)\n",
            "\u001b[K     |████████████████████████████████| 174kB 46.3MB/s \n",
            "\u001b[?25hRequirement already satisfied: Flask in /usr/local/lib/python3.7/dist-packages (from mlflow->pycaret) (1.1.4)\n",
            "Requirement already satisfied: pillow in /usr/local/lib/python3.7/dist-packages (from wordcloud->pycaret) (7.1.2)\n",
            "Requirement already satisfied: cycler>=0.10.0 in /usr/local/lib/python3.7/dist-packages (from yellowbrick>=1.0.1->pycaret) (0.10.0)\n",
            "Requirement already satisfied: python-dateutil>=2.1 in /usr/local/lib/python3.7/dist-packages (from matplotlib->pycaret) (2.8.1)\n",
            "Requirement already satisfied: pyparsing!=2.0.4,!=2.1.2,!=2.1.6,>=2.0.1 in /usr/local/lib/python3.7/dist-packages (from matplotlib->pycaret) (2.4.7)\n",
            "Requirement already satisfied: kiwisolver>=1.0.1 in /usr/local/lib/python3.7/dist-packages (from matplotlib->pycaret) (1.3.1)\n",
            "Requirement already satisfied: numba>=0.35 in /usr/local/lib/python3.7/dist-packages (from pyod->pycaret) (0.51.2)\n",
            "Requirement already satisfied: statsmodels in /usr/local/lib/python3.7/dist-packages (from pyod->pycaret) (0.10.2)\n",
            "Collecting pynndescent>=0.5\n",
            "\u001b[?25l  Downloading https://files.pythonhosted.org/packages/af/65/8189298dd3a05bbad716ee8e249764ff8800e365d8dc652ad2192ca01b4a/pynndescent-0.5.2.tar.gz (1.1MB)\n",
            "\u001b[K     |████████████████████████████████| 1.2MB 39.0MB/s \n",
            "\u001b[?25hRequirement already satisfied: jupyterlab-widgets>=1.0.0; python_version >= \"3.6\" in /usr/local/lib/python3.7/dist-packages (from ipywidgets->pycaret) (1.0.0)\n",
            "Requirement already satisfied: traitlets>=4.3.1 in /usr/local/lib/python3.7/dist-packages (from ipywidgets->pycaret) (5.0.5)\n",
            "Requirement already satisfied: widgetsnbextension~=3.5.0 in /usr/local/lib/python3.7/dist-packages (from ipywidgets->pycaret) (3.5.1)\n",
            "Requirement already satisfied: nbformat>=4.2.0 in /usr/local/lib/python3.7/dist-packages (from ipywidgets->pycaret) (5.1.3)\n",
            "Requirement already satisfied: ipykernel>=4.5.1 in /usr/local/lib/python3.7/dist-packages (from ipywidgets->pycaret) (4.10.1)\n",
            "Requirement already satisfied: setuptools in /usr/local/lib/python3.7/dist-packages (from mlxtend>=0.17.0->pycaret) (57.0.0)\n",
            "Requirement already satisfied: smart-open>=1.2.1 in /usr/local/lib/python3.7/dist-packages (from gensim<4.0.0->pycaret) (5.0.0)\n",
            "Requirement already satisfied: colorlover>=0.2.1 in /usr/local/lib/python3.7/dist-packages (from cufflinks>=0.17.0->pycaret) (0.3.0)\n",
            "Collecting threadpoolctl>=2.0.0\n",
            "  Downloading https://files.pythonhosted.org/packages/f7/12/ec3f2e203afa394a149911729357aa48affc59c20e2c1c8297a60f33f133/threadpoolctl-2.1.0-py3-none-any.whl\n",
            "Requirement already satisfied: numexpr in /usr/local/lib/python3.7/dist-packages (from pyLDAvis->pycaret) (2.7.3)\n",
            "Requirement already satisfied: sklearn in /usr/local/lib/python3.7/dist-packages (from pyLDAvis->pycaret) (0.0)\n",
            "Collecting funcy\n",
            "  Downloading https://files.pythonhosted.org/packages/44/52/5cf7401456a461e4b481650dfb8279bc000f31a011d0918904f86e755947/funcy-1.16-py2.py3-none-any.whl\n",
            "Requirement already satisfied: jinja2 in /usr/local/lib/python3.7/dist-packages (from pyLDAvis->pycaret) (2.11.3)\n",
            "Requirement already satisfied: future in /usr/local/lib/python3.7/dist-packages (from pyLDAvis->pycaret) (0.16.0)\n",
            "Requirement already satisfied: preshed<3.1.0,>=3.0.2 in /usr/local/lib/python3.7/dist-packages (from spacy<2.4.0->pycaret) (3.0.5)\n",
            "Requirement already satisfied: catalogue<1.1.0,>=0.0.7 in /usr/local/lib/python3.7/dist-packages (from spacy<2.4.0->pycaret) (1.0.0)\n",
            "Requirement already satisfied: plac<1.2.0,>=0.9.6 in /usr/local/lib/python3.7/dist-packages (from spacy<2.4.0->pycaret) (1.1.3)\n",
            "Requirement already satisfied: blis<0.5.0,>=0.4.0 in /usr/local/lib/python3.7/dist-packages (from spacy<2.4.0->pycaret) (0.4.1)\n",
            "Requirement already satisfied: tqdm<5.0.0,>=4.38.0 in /usr/local/lib/python3.7/dist-packages (from spacy<2.4.0->pycaret) (4.41.1)\n",
            "Requirement already satisfied: srsly<1.1.0,>=1.0.2 in /usr/local/lib/python3.7/dist-packages (from spacy<2.4.0->pycaret) (1.0.5)\n",
            "Requirement already satisfied: cymem<2.1.0,>=2.0.2 in /usr/local/lib/python3.7/dist-packages (from spacy<2.4.0->pycaret) (2.0.5)\n",
            "Requirement already satisfied: wasabi<1.1.0,>=0.4.0 in /usr/local/lib/python3.7/dist-packages (from spacy<2.4.0->pycaret) (0.8.2)\n",
            "Requirement already satisfied: thinc==7.4.0 in /usr/local/lib/python3.7/dist-packages (from spacy<2.4.0->pycaret) (7.4.0)\n",
            "Requirement already satisfied: murmurhash<1.1.0,>=0.28.0 in /usr/local/lib/python3.7/dist-packages (from spacy<2.4.0->pycaret) (1.0.5)\n",
            "Requirement already satisfied: decorator in /usr/local/lib/python3.7/dist-packages (from IPython->pycaret) (4.4.2)\n",
            "Requirement already satisfied: simplegeneric>0.8 in /usr/local/lib/python3.7/dist-packages (from IPython->pycaret) (0.8.1)\n",
            "Requirement already satisfied: pygments in /usr/local/lib/python3.7/dist-packages (from IPython->pycaret) (2.6.1)\n",
            "Requirement already satisfied: pickleshare in /usr/local/lib/python3.7/dist-packages (from IPython->pycaret) (0.7.5)\n",
            "Requirement already satisfied: prompt-toolkit<2.0.0,>=1.0.4 in /usr/local/lib/python3.7/dist-packages (from IPython->pycaret) (1.0.18)\n",
            "Requirement already satisfied: pexpect; sys_platform != \"win32\" in /usr/local/lib/python3.7/dist-packages (from IPython->pycaret) (4.8.0)\n",
            "Collecting tangled-up-in-unicode==0.1.0\n",
            "\u001b[?25l  Downloading https://files.pythonhosted.org/packages/93/3e/cb354fb2097fcf2fd5b5a342b10ae2a6e9363ba435b64e3e00c414064bc7/tangled_up_in_unicode-0.1.0-py3-none-any.whl (3.1MB)\n",
            "\u001b[K     |████████████████████████████████| 3.1MB 36.6MB/s \n",
            "\u001b[?25hCollecting htmlmin>=0.1.12\n",
            "  Downloading https://files.pythonhosted.org/packages/b3/e7/fcd59e12169de19f0131ff2812077f964c6b960e7c09804d30a7bf2ab461/htmlmin-0.1.12.tar.gz\n",
            "Requirement already satisfied: missingno>=0.4.2 in /usr/local/lib/python3.7/dist-packages (from pandas-profiling>=2.8.0->pycaret) (0.4.2)\n",
            "Collecting phik>=0.11.1\n",
            "\u001b[?25l  Downloading https://files.pythonhosted.org/packages/b7/ce/193e8ddf62d4be643b9b4b20e8e9c63b2f6a20f92778c0410c629f89bdaa/phik-0.11.2.tar.gz (1.1MB)\n",
            "\u001b[K     |████████████████████████████████| 1.1MB 44.9MB/s \n",
            "\u001b[?25hCollecting pydantic>=1.8.1\n",
            "\u001b[?25l  Downloading https://files.pythonhosted.org/packages/9f/f2/2d5425efe57f6c4e06cbe5e587c1fd16929dcf0eb90bd4d3d1e1c97d1151/pydantic-1.8.2-cp37-cp37m-manylinux2014_x86_64.whl (10.1MB)\n",
            "\u001b[K     |████████████████████████████████| 10.1MB 40.0MB/s \n",
            "\u001b[?25hCollecting visions[type_image_path]==0.7.1\n",
            "\u001b[?25l  Downloading https://files.pythonhosted.org/packages/80/96/01e4ba22cef96ae5035dbcf0451c2f4f859f8f17393b98406b23f0034279/visions-0.7.1-py3-none-any.whl (102kB)\n",
            "\u001b[K     |████████████████████████████████| 112kB 46.2MB/s \n",
            "\u001b[?25hCollecting websocket-client>=0.32.0\n",
            "\u001b[?25l  Downloading https://files.pythonhosted.org/packages/85/ee/7aa724dc2dbed9b028f463eada5482770c13b7381a0c79457d12b3b62de2/websocket_client-1.0.1-py2.py3-none-any.whl (68kB)\n",
            "\u001b[K     |████████████████████████████████| 71kB 8.5MB/s \n",
            "\u001b[?25hRequirement already satisfied: prometheus_client in /usr/local/lib/python3.7/dist-packages (from prometheus-flask-exporter->mlflow->pycaret) (0.10.1)\n",
            "Requirement already satisfied: certifi>=2017.4.17 in /usr/local/lib/python3.7/dist-packages (from requests>=2.17.3->mlflow->pycaret) (2020.12.5)\n",
            "Requirement already satisfied: urllib3!=1.25.0,!=1.25.1,<1.26,>=1.21.1 in /usr/local/lib/python3.7/dist-packages (from requests>=2.17.3->mlflow->pycaret) (1.24.3)\n",
            "Requirement already satisfied: idna<3,>=2.5 in /usr/local/lib/python3.7/dist-packages (from requests>=2.17.3->mlflow->pycaret) (2.10)\n",
            "Requirement already satisfied: chardet<4,>=3.0.2 in /usr/local/lib/python3.7/dist-packages (from requests>=2.17.3->mlflow->pycaret) (3.0.4)\n",
            "Requirement already satisfied: tabulate>=0.7.7 in /usr/local/lib/python3.7/dist-packages (from databricks-cli>=0.8.7->mlflow->pycaret) (0.8.9)\n",
            "Requirement already satisfied: importlib-metadata; python_version < \"3.8\" in /usr/local/lib/python3.7/dist-packages (from sqlalchemy->mlflow->pycaret) (4.0.1)\n",
            "Requirement already satisfied: greenlet!=0.4.17; python_version >= \"3\" in /usr/local/lib/python3.7/dist-packages (from sqlalchemy->mlflow->pycaret) (1.1.0)\n",
            "Collecting Mako\n",
            "\u001b[?25l  Downloading https://files.pythonhosted.org/packages/f3/54/dbc07fbb20865d3b78fdb7cf7fa713e2cba4f87f71100074ef2dc9f9d1f7/Mako-1.1.4-py2.py3-none-any.whl (75kB)\n",
            "\u001b[K     |████████████████████████████████| 81kB 9.7MB/s \n",
            "\u001b[?25hCollecting python-editor>=0.3\n",
            "  Downloading https://files.pythonhosted.org/packages/c6/d3/201fc3abe391bbae6606e6f1d598c15d367033332bd54352b12f35513717/python_editor-1.0.4-py3-none-any.whl\n",
            "Collecting gitdb<5,>=4.0.1\n",
            "\u001b[?25l  Downloading https://files.pythonhosted.org/packages/ea/e8/f414d1a4f0bbc668ed441f74f44c116d9816833a48bf81d22b697090dba8/gitdb-4.0.7-py3-none-any.whl (63kB)\n",
            "\u001b[K     |████████████████████████████████| 71kB 9.0MB/s \n",
            "\u001b[?25hRequirement already satisfied: typing-extensions>=3.7.4.0; python_version < \"3.8\" in /usr/local/lib/python3.7/dist-packages (from gitpython>=2.1.0->mlflow->pycaret) (3.7.4.3)\n",
            "Requirement already satisfied: Werkzeug<2.0,>=0.15 in /usr/local/lib/python3.7/dist-packages (from Flask->mlflow->pycaret) (1.0.1)\n",
            "Requirement already satisfied: itsdangerous<2.0,>=0.24 in /usr/local/lib/python3.7/dist-packages (from Flask->mlflow->pycaret) (1.1.0)\n",
            "Requirement already satisfied: llvmlite<0.35,>=0.34.0.dev0 in /usr/local/lib/python3.7/dist-packages (from numba>=0.35->pyod->pycaret) (0.34.0)\n",
            "Requirement already satisfied: patsy>=0.4.0 in /usr/local/lib/python3.7/dist-packages (from statsmodels->pyod->pycaret) (0.5.1)\n",
            "Requirement already satisfied: ipython-genutils in /usr/local/lib/python3.7/dist-packages (from traitlets>=4.3.1->ipywidgets->pycaret) (0.2.0)\n",
            "Requirement already satisfied: notebook>=4.4.1 in /usr/local/lib/python3.7/dist-packages (from widgetsnbextension~=3.5.0->ipywidgets->pycaret) (5.3.1)\n",
            "Requirement already satisfied: jsonschema!=2.5.0,>=2.4 in /usr/local/lib/python3.7/dist-packages (from nbformat>=4.2.0->ipywidgets->pycaret) (2.6.0)\n",
            "Requirement already satisfied: jupyter-core in /usr/local/lib/python3.7/dist-packages (from nbformat>=4.2.0->ipywidgets->pycaret) (4.7.1)\n",
            "Requirement already satisfied: tornado>=4.0 in /usr/local/lib/python3.7/dist-packages (from ipykernel>=4.5.1->ipywidgets->pycaret) (5.1.1)\n",
            "Requirement already satisfied: jupyter-client in /usr/local/lib/python3.7/dist-packages (from ipykernel>=4.5.1->ipywidgets->pycaret) (5.3.5)\n",
            "Requirement already satisfied: MarkupSafe>=0.23 in /usr/local/lib/python3.7/dist-packages (from jinja2->pyLDAvis->pycaret) (2.0.1)\n",
            "Requirement already satisfied: wcwidth in /usr/local/lib/python3.7/dist-packages (from prompt-toolkit<2.0.0,>=1.0.4->IPython->pycaret) (0.2.5)\n",
            "Requirement already satisfied: ptyprocess>=0.5 in /usr/local/lib/python3.7/dist-packages (from pexpect; sys_platform != \"win32\"->IPython->pycaret) (0.7.0)\n",
            "Collecting multimethod==1.4\n",
            "  Downloading https://files.pythonhosted.org/packages/7a/d0/ce5ad0392aa12645b7ad91a5983d6b625b704b021d9cd48c587630c1a9ac/multimethod-1.4-py2.py3-none-any.whl\n",
            "Requirement already satisfied: attrs>=19.3.0 in /usr/local/lib/python3.7/dist-packages (from visions[type_image_path]==0.7.1->pandas-profiling>=2.8.0->pycaret) (21.2.0)\n",
            "Requirement already satisfied: bottleneck in /usr/local/lib/python3.7/dist-packages (from visions[type_image_path]==0.7.1->pandas-profiling>=2.8.0->pycaret) (1.3.2)\n",
            "Requirement already satisfied: networkx>=2.4 in /usr/local/lib/python3.7/dist-packages (from visions[type_image_path]==0.7.1->pandas-profiling>=2.8.0->pycaret) (2.5.1)\n",
            "Collecting imagehash; extra == \"type_image_path\"\n",
            "\u001b[?25l  Downloading https://files.pythonhosted.org/packages/8e/18/9dbb772b5ef73a3069c66bb5bf29b9fb4dd57af0d5790c781c3f559bcca6/ImageHash-4.2.0-py2.py3-none-any.whl (295kB)\n",
            "\u001b[K     |████████████████████████████████| 296kB 46.0MB/s \n",
            "\u001b[?25hRequirement already satisfied: zipp>=0.5 in /usr/local/lib/python3.7/dist-packages (from importlib-metadata; python_version < \"3.8\"->sqlalchemy->mlflow->pycaret) (3.4.1)\n",
            "Collecting smmap<5,>=3.0.1\n",
            "  Downloading https://files.pythonhosted.org/packages/68/ee/d540eb5e5996eb81c26ceffac6ee49041d473bc5125f2aa995cf51ec1cf1/smmap-4.0.0-py2.py3-none-any.whl\n",
            "Requirement already satisfied: nbconvert in /usr/local/lib/python3.7/dist-packages (from notebook>=4.4.1->widgetsnbextension~=3.5.0->ipywidgets->pycaret) (5.6.1)\n",
            "Requirement already satisfied: terminado>=0.8.1 in /usr/local/lib/python3.7/dist-packages (from notebook>=4.4.1->widgetsnbextension~=3.5.0->ipywidgets->pycaret) (0.10.0)\n",
            "Requirement already satisfied: Send2Trash in /usr/local/lib/python3.7/dist-packages (from notebook>=4.4.1->widgetsnbextension~=3.5.0->ipywidgets->pycaret) (1.5.0)\n",
            "Requirement already satisfied: pyzmq>=13 in /usr/local/lib/python3.7/dist-packages (from jupyter-client->ipykernel>=4.5.1->ipywidgets->pycaret) (22.0.3)\n",
            "Requirement already satisfied: PyWavelets in /usr/local/lib/python3.7/dist-packages (from imagehash; extra == \"type_image_path\"->visions[type_image_path]==0.7.1->pandas-profiling>=2.8.0->pycaret) (1.1.1)\n",
            "Requirement already satisfied: testpath in /usr/local/lib/python3.7/dist-packages (from nbconvert->notebook>=4.4.1->widgetsnbextension~=3.5.0->ipywidgets->pycaret) (0.5.0)\n",
            "Requirement already satisfied: defusedxml in /usr/local/lib/python3.7/dist-packages (from nbconvert->notebook>=4.4.1->widgetsnbextension~=3.5.0->ipywidgets->pycaret) (0.7.1)\n",
            "Requirement already satisfied: bleach in /usr/local/lib/python3.7/dist-packages (from nbconvert->notebook>=4.4.1->widgetsnbextension~=3.5.0->ipywidgets->pycaret) (3.3.0)\n",
            "Requirement already satisfied: mistune<2,>=0.8.1 in /usr/local/lib/python3.7/dist-packages (from nbconvert->notebook>=4.4.1->widgetsnbextension~=3.5.0->ipywidgets->pycaret) (0.8.4)\n",
            "Requirement already satisfied: pandocfilters>=1.4.1 in /usr/local/lib/python3.7/dist-packages (from nbconvert->notebook>=4.4.1->widgetsnbextension~=3.5.0->ipywidgets->pycaret) (1.4.3)\n",
            "Requirement already satisfied: webencodings in /usr/local/lib/python3.7/dist-packages (from bleach->nbconvert->notebook>=4.4.1->widgetsnbextension~=3.5.0->ipywidgets->pycaret) (0.5.1)\n",
            "Requirement already satisfied: packaging in /usr/local/lib/python3.7/dist-packages (from bleach->nbconvert->notebook>=4.4.1->widgetsnbextension~=3.5.0->ipywidgets->pycaret) (20.9)\n",
            "Building wheels for collected packages: pyLDAvis\n",
            "  Building wheel for pyLDAvis (PEP 517) ... \u001b[?25l\u001b[?25hdone\n",
            "  Created wheel for pyLDAvis: filename=pyLDAvis-3.3.1-cp37-none-any.whl size=136897 sha256=10c037fa4bf42cc94ce4ed88417f1ebe774672d41df8ae703aa987e5c3807a02\n",
            "  Stored in directory: /root/.cache/pip/wheels/a0/9c/fc/c6e00689d35c82cf96a8adc70edfe7ba7904374fdac3240ac2\n",
            "Successfully built pyLDAvis\n",
            "Building wheels for collected packages: pyod, umap-learn, prometheus-flask-exporter, databricks-cli, alembic, pynndescent, htmlmin, phik\n",
            "  Building wheel for pyod (setup.py) ... \u001b[?25l\u001b[?25hdone\n",
            "  Created wheel for pyod: filename=pyod-0.8.8-cp37-none-any.whl size=116969 sha256=0912f7d04be3bd48a596d6f895f4898bd17bdf54cf07e7598c7a80c4882bfcbc\n",
            "  Stored in directory: /root/.cache/pip/wheels/54/dd/36/a12fa930455b7c38902f2dbf737175421ad30436e47ac5b24d\n",
            "  Building wheel for umap-learn (setup.py) ... \u001b[?25l\u001b[?25hdone\n",
            "  Created wheel for umap-learn: filename=umap_learn-0.5.1-cp37-none-any.whl size=76569 sha256=46c88a2f53e13acda7bd22f583fb73be2620e05274cafe5f42d48004578356a5\n",
            "  Stored in directory: /root/.cache/pip/wheels/ad/df/d5/a3691296ff779f25cd1cf415a3af954b987fb53111e3392cf4\n",
            "  Building wheel for prometheus-flask-exporter (setup.py) ... \u001b[?25l\u001b[?25hdone\n",
            "  Created wheel for prometheus-flask-exporter: filename=prometheus_flask_exporter-0.18.2-cp37-none-any.whl size=17415 sha256=e2d46e90cd568db531c25dc6adb863594920958e48d95b03d1373cc3e7ddec1d\n",
            "  Stored in directory: /root/.cache/pip/wheels/c0/e2/9c/4f3ee23964802940f81a8b476d0b9be6fb6348cb12df2e2226\n",
            "  Building wheel for databricks-cli (setup.py) ... \u001b[?25l\u001b[?25hdone\n",
            "  Created wheel for databricks-cli: filename=databricks_cli-0.14.3-cp37-none-any.whl size=100560 sha256=06eee074b24a763c8709db3a1a49bbe477584c3d7f30f4e67731cd05023d83a2\n",
            "  Stored in directory: /root/.cache/pip/wheels/5b/24/f3/34d8e3964dac4ba849d844273c49a679111b00d5799ebb934a\n",
            "  Building wheel for alembic (setup.py) ... \u001b[?25l\u001b[?25hdone\n",
            "  Created wheel for alembic: filename=alembic-1.4.1-py2.py3-none-any.whl size=158170 sha256=5c1bccddd18af81885600cd300cd481fa059adfd22faf53f07d15f1f69681032\n",
            "  Stored in directory: /root/.cache/pip/wheels/84/07/f7/12f7370ca47a66030c2edeedcc23dec26ea0ac22dcb4c4a0f3\n",
            "  Building wheel for pynndescent (setup.py) ... \u001b[?25l\u001b[?25hdone\n",
            "  Created wheel for pynndescent: filename=pynndescent-0.5.2-cp37-none-any.whl size=51362 sha256=ceaaf57cc078620f0a1fc935e4e852b2b4eb62610560b2a4e6f9a2dd02a7f0f0\n",
            "  Stored in directory: /root/.cache/pip/wheels/ba/52/4e/4c28d04d144a28f89e2575fb63628df6e6d49b56c5ddd0c74e\n",
            "  Building wheel for htmlmin (setup.py) ... \u001b[?25l\u001b[?25hdone\n",
            "  Created wheel for htmlmin: filename=htmlmin-0.1.12-cp37-none-any.whl size=27099 sha256=e6fb6373746213d60a8772e37f53c168cc0a09bc33354c957d11fa5308dd3639\n",
            "  Stored in directory: /root/.cache/pip/wheels/43/07/ac/7c5a9d708d65247ac1f94066cf1db075540b85716c30255459\n",
            "  Building wheel for phik (setup.py) ... \u001b[?25l\u001b[?25hdone\n",
            "  Created wheel for phik: filename=phik-0.11.2-cp37-none-any.whl size=1107437 sha256=578b9504f4248021abc7e4e50637aaa6e3a1ad8d4ae3869eb05a882b52a51d8d\n",
            "  Stored in directory: /root/.cache/pip/wheels/c0/a3/b0/f27b1cfe32ea131a3715169132ff6d85653789e80e966c3bf6\n",
            "Successfully built pyod umap-learn prometheus-flask-exporter databricks-cli alembic pynndescent htmlmin phik\n",
            "\u001b[31mERROR: pandas-profiling 3.0.0 has requirement PyYAML>=5.0.0, but you'll have pyyaml 3.13 which is incompatible.\u001b[0m\n",
            "\u001b[31mERROR: pandas-profiling 3.0.0 has requirement requests>=2.24.0, but you'll have requests 2.23.0 which is incompatible.\u001b[0m\n",
            "\u001b[31mERROR: pandas-profiling 3.0.0 has requirement tqdm>=4.48.2, but you'll have tqdm 4.41.1 which is incompatible.\u001b[0m\n",
            "\u001b[31mERROR: pyldavis 3.3.1 has requirement numpy>=1.20.0, but you'll have numpy 1.19.5 which is incompatible.\u001b[0m\n",
            "\u001b[31mERROR: pyldavis 3.3.1 has requirement pandas>=1.2.0, but you'll have pandas 1.1.5 which is incompatible.\u001b[0m\n",
            "\u001b[31mERROR: phik 0.11.2 has requirement scipy>=1.5.2, but you'll have scipy 1.4.1 which is incompatible.\u001b[0m\n",
            "Installing collected packages: threadpoolctl, scikit-learn, lightgbm, Boruta, websocket-client, docker, gunicorn, prometheus-flask-exporter, databricks-cli, Mako, python-editor, alembic, querystring-parser, smmap, gitdb, gitpython, mlflow, kmodes, scikit-plot, yellowbrick, pyod, pynndescent, umap-learn, mlxtend, imbalanced-learn, funcy, pyLDAvis, tangled-up-in-unicode, htmlmin, phik, pydantic, multimethod, imagehash, visions, pandas-profiling, pycaret\n",
            "  Found existing installation: scikit-learn 0.22.2.post1\n",
            "    Uninstalling scikit-learn-0.22.2.post1:\n",
            "      Successfully uninstalled scikit-learn-0.22.2.post1\n",
            "  Found existing installation: lightgbm 2.2.3\n",
            "    Uninstalling lightgbm-2.2.3:\n",
            "      Successfully uninstalled lightgbm-2.2.3\n",
            "  Found existing installation: yellowbrick 0.9.1\n",
            "    Uninstalling yellowbrick-0.9.1:\n",
            "      Successfully uninstalled yellowbrick-0.9.1\n",
            "  Found existing installation: mlxtend 0.14.0\n",
            "    Uninstalling mlxtend-0.14.0:\n",
            "      Successfully uninstalled mlxtend-0.14.0\n",
            "  Found existing installation: imbalanced-learn 0.4.3\n",
            "    Uninstalling imbalanced-learn-0.4.3:\n",
            "      Successfully uninstalled imbalanced-learn-0.4.3\n",
            "  Found existing installation: pandas-profiling 1.4.1\n",
            "    Uninstalling pandas-profiling-1.4.1:\n",
            "      Successfully uninstalled pandas-profiling-1.4.1\n",
            "Successfully installed Boruta-0.3 Mako-1.1.4 alembic-1.4.1 databricks-cli-0.14.3 docker-5.0.0 funcy-1.16 gitdb-4.0.7 gitpython-3.1.17 gunicorn-20.1.0 htmlmin-0.1.12 imagehash-4.2.0 imbalanced-learn-0.7.0 kmodes-0.11.0 lightgbm-3.2.1 mlflow-1.17.0 mlxtend-0.18.0 multimethod-1.4 pandas-profiling-3.0.0 phik-0.11.2 prometheus-flask-exporter-0.18.2 pyLDAvis-3.3.1 pycaret-2.3.1 pydantic-1.8.2 pynndescent-0.5.2 pyod-0.8.8 python-editor-1.0.4 querystring-parser-1.2.4 scikit-learn-0.23.2 scikit-plot-0.3.7 smmap-4.0.0 tangled-up-in-unicode-0.1.0 threadpoolctl-2.1.0 umap-learn-0.5.1 visions-0.7.1 websocket-client-1.0.1 yellowbrick-1.3.post1\n"
          ],
          "name": "stdout"
        }
      ]
    },
    {
      "cell_type": "code",
      "metadata": {
        "id": "vADQpd_tUXF5"
      },
      "source": [
        "from PIL import Image\n",
        "import requests\n",
        "from io import BytesIO\n",
        "import pandas as pd\n",
        "import numpy as np\n",
        "import matplotlib.pyplot as plt\n",
        "import seaborn as sns\n",
        "import warnings\n",
        "import os\n",
        "from skimage import io\n",
        "import pathlib\n",
        "import glob\n",
        "import numpy as np\n",
        "import pandas as pd\n",
        "import tensorflow as tf\n",
        "from sklearn.model_selection import train_test_split\n",
        "from tensorflow.keras import Model\n",
        "from tensorflow.keras.layers import *\n",
        "from tensorflow.keras.losses import CategoricalCrossentropy\n",
        "from tensorflow.keras import layers\n",
        "from tensorflow.keras.models import Sequential, Model, load_model\n",
        "from tensorflow.keras.layers import Dense, Dropout, Flatten, Conv2D, MaxPooling2D, BatchNormalization,GlobalAveragePooling2D\n",
        "from tensorflow.keras.preprocessing.image import ImageDataGenerator\n",
        "from tensorflow.keras import optimizers\n",
        "\n",
        "%load_ext tensorboard\n",
        "warnings.filterwarnings(\"ignore\")"
      ],
      "execution_count": 3,
      "outputs": []
    },
    {
      "cell_type": "markdown",
      "metadata": {
        "id": "0v6ezXEwUXF6"
      },
      "source": [
        "#### Reading the tabular data"
      ]
    },
    {
      "cell_type": "code",
      "metadata": {
        "colab": {
          "base_uri": "https://localhost:8080/"
        },
        "id": "ZHXIB7gsUpVy",
        "outputId": "5b9cf7d9-758f-4b3b-ba73-f420978fa9eb"
      },
      "source": [
        "from google.colab import drive\n",
        "drive.mount('/content/drive')"
      ],
      "execution_count": 4,
      "outputs": [
        {
          "output_type": "stream",
          "text": [
            "Mounted at /content/drive\n"
          ],
          "name": "stdout"
        }
      ]
    },
    {
      "cell_type": "code",
      "metadata": {
        "id": "RsatQ5hUUsgp",
        "colab": {
          "base_uri": "https://localhost:8080/"
        },
        "outputId": "f31e18e8-068e-428d-f7d8-0f458c6607c9"
      },
      "source": [
        "%cd drive/MyDrive/Colab Notebooks"
      ],
      "execution_count": 5,
      "outputs": [
        {
          "output_type": "stream",
          "text": [
            "/content/drive/MyDrive/Colab Notebooks\n"
          ],
          "name": "stdout"
        }
      ]
    },
    {
      "cell_type": "code",
      "metadata": {
        "id": "LE-uPMSrUXF6"
      },
      "source": [
        "f = open(\"tabular_data.csv\", \"r\")\n",
        "# f = open(\"D:\\Data Science\\Thesis\\1. Datasets\\Thesis 1\\SLOAN\")\n",
        "a = f.readlines()\n",
        "f.close()"
      ],
      "execution_count": 6,
      "outputs": []
    },
    {
      "cell_type": "markdown",
      "metadata": {
        "id": "ODTSeNacUXF7"
      },
      "source": [
        "##### Reading the first record of the csv file"
      ]
    },
    {
      "cell_type": "code",
      "metadata": {
        "colab": {
          "base_uri": "https://localhost:8080/",
          "height": 53
        },
        "id": "WQckQ2RbUXF7",
        "outputId": "269be009-7e4f-4ddd-f12f-bba99fcaba50"
      },
      "source": [
        "print(len(a))\n",
        "a[1001]"
      ],
      "execution_count": 7,
      "outputs": [
        {
          "output_type": "stream",
          "text": [
            "1002\n"
          ],
          "name": "stdout"
        },
        {
          "output_type": "execute_result",
          "data": {
            "application/vnd.google.colaboratory.intrinsic+json": {
              "type": "string"
            },
            "text/plain": [
              "'1237648704055214227,217.618134232202,-0.23442684979355,19.51428,18.67359,18.61282,18.63047,18.35689,752,301,3,495,19.00783,4535127118091407360,QSO,2.62735,4028,55621,8\\n'"
            ]
          },
          "metadata": {
            "tags": []
          },
          "execution_count": 7
        }
      ]
    },
    {
      "cell_type": "markdown",
      "metadata": {
        "id": "nK3wvoWgUXF8"
      },
      "source": [
        "#### Creating a pandas dataframe for analysis"
      ]
    },
    {
      "cell_type": "code",
      "metadata": {
        "colab": {
          "base_uri": "https://localhost:8080/",
          "height": 156
        },
        "id": "EIKa21XWUXF8",
        "outputId": "01bc039c-83b5-457b-e743-69fbba097d10"
      },
      "source": [
        "df = pd.read_csv(\"tabular_data.csv\", skiprows = [0])\n",
        "df.head(3)"
      ],
      "execution_count": 8,
      "outputs": [
        {
          "output_type": "execute_result",
          "data": {
            "text/html": [
              "<div>\n",
              "<style scoped>\n",
              "    .dataframe tbody tr th:only-of-type {\n",
              "        vertical-align: middle;\n",
              "    }\n",
              "\n",
              "    .dataframe tbody tr th {\n",
              "        vertical-align: top;\n",
              "    }\n",
              "\n",
              "    .dataframe thead th {\n",
              "        text-align: right;\n",
              "    }\n",
              "</style>\n",
              "<table border=\"1\" class=\"dataframe\">\n",
              "  <thead>\n",
              "    <tr style=\"text-align: right;\">\n",
              "      <th></th>\n",
              "      <th>objid</th>\n",
              "      <th>ra</th>\n",
              "      <th>dec</th>\n",
              "      <th>u</th>\n",
              "      <th>g</th>\n",
              "      <th>r</th>\n",
              "      <th>i</th>\n",
              "      <th>z</th>\n",
              "      <th>run</th>\n",
              "      <th>rerun</th>\n",
              "      <th>camcol</th>\n",
              "      <th>field</th>\n",
              "      <th>fiberMag_g</th>\n",
              "      <th>specobjid</th>\n",
              "      <th>class</th>\n",
              "      <th>redshift</th>\n",
              "      <th>plate</th>\n",
              "      <th>mjd</th>\n",
              "      <th>fiberid</th>\n",
              "    </tr>\n",
              "  </thead>\n",
              "  <tbody>\n",
              "    <tr>\n",
              "      <th>0</th>\n",
              "      <td>1237646587699462283</td>\n",
              "      <td>56.485796</td>\n",
              "      <td>0.843531</td>\n",
              "      <td>17.98595</td>\n",
              "      <td>16.77582</td>\n",
              "      <td>16.22950</td>\n",
              "      <td>16.00589</td>\n",
              "      <td>15.89195</td>\n",
              "      <td>259</td>\n",
              "      <td>301</td>\n",
              "      <td>5</td>\n",
              "      <td>333</td>\n",
              "      <td>17.10288</td>\n",
              "      <td>1837638847656126464</td>\n",
              "      <td>STAR</td>\n",
              "      <td>0.000125</td>\n",
              "      <td>1632</td>\n",
              "      <td>52996</td>\n",
              "      <td>619</td>\n",
              "    </tr>\n",
              "    <tr>\n",
              "      <th>1</th>\n",
              "      <td>1237646587699658835</td>\n",
              "      <td>56.901894</td>\n",
              "      <td>0.845330</td>\n",
              "      <td>19.23049</td>\n",
              "      <td>17.21716</td>\n",
              "      <td>16.38172</td>\n",
              "      <td>16.05841</td>\n",
              "      <td>15.88405</td>\n",
              "      <td>259</td>\n",
              "      <td>301</td>\n",
              "      <td>5</td>\n",
              "      <td>336</td>\n",
              "      <td>17.54239</td>\n",
              "      <td>1721609858370791424</td>\n",
              "      <td>STAR</td>\n",
              "      <td>-0.000201</td>\n",
              "      <td>1529</td>\n",
              "      <td>52930</td>\n",
              "      <td>396</td>\n",
              "    </tr>\n",
              "    <tr>\n",
              "      <th>2</th>\n",
              "      <td>1237646587709882380</td>\n",
              "      <td>80.224783</td>\n",
              "      <td>0.834251</td>\n",
              "      <td>18.12716</td>\n",
              "      <td>16.95737</td>\n",
              "      <td>16.40913</td>\n",
              "      <td>16.18926</td>\n",
              "      <td>16.05978</td>\n",
              "      <td>259</td>\n",
              "      <td>301</td>\n",
              "      <td>5</td>\n",
              "      <td>492</td>\n",
              "      <td>17.26884</td>\n",
              "      <td>8175272584063242240</td>\n",
              "      <td>STAR</td>\n",
              "      <td>-0.000017</td>\n",
              "      <td>7261</td>\n",
              "      <td>56603</td>\n",
              "      <td>412</td>\n",
              "    </tr>\n",
              "  </tbody>\n",
              "</table>\n",
              "</div>"
            ],
            "text/plain": [
              "                 objid         ra       dec  ...  plate    mjd  fiberid\n",
              "0  1237646587699462283  56.485796  0.843531  ...   1632  52996      619\n",
              "1  1237646587699658835  56.901894  0.845330  ...   1529  52930      396\n",
              "2  1237646587709882380  80.224783  0.834251  ...   7261  56603      412\n",
              "\n",
              "[3 rows x 19 columns]"
            ]
          },
          "metadata": {
            "tags": []
          },
          "execution_count": 8
        }
      ]
    },
    {
      "cell_type": "code",
      "metadata": {
        "colab": {
          "base_uri": "https://localhost:8080/"
        },
        "id": "ZfDyZWWYUXF9",
        "outputId": "e09f3e5a-006a-402a-ed04-4030197fa286"
      },
      "source": [
        "df['class'].value_counts()"
      ],
      "execution_count": 9,
      "outputs": [
        {
          "output_type": "execute_result",
          "data": {
            "text/plain": [
              "STAR      498\n",
              "GALAXY    440\n",
              "QSO        62\n",
              "Name: class, dtype: int64"
            ]
          },
          "metadata": {
            "tags": []
          },
          "execution_count": 9
        }
      ]
    },
    {
      "cell_type": "code",
      "metadata": {
        "id": "RpYC8PH-UXGF"
      },
      "source": [
        "classes = ['GALAXY', 'STAR', 'QSO']"
      ],
      "execution_count": 10,
      "outputs": []
    },
    {
      "cell_type": "code",
      "metadata": {
        "colab": {
          "base_uri": "https://localhost:8080/",
          "height": 136
        },
        "id": "_PhODu00Sh2A",
        "outputId": "993a356b-c7ac-492c-cbd9-892960ed0652"
      },
      "source": [
        "columns = ['u', 'g', 'r', 'i', 'z', 'fiberMag_g', 'class']\n",
        "df1 = df[columns]\n",
        "df1.head(3)"
      ],
      "execution_count": 11,
      "outputs": [
        {
          "output_type": "execute_result",
          "data": {
            "text/html": [
              "<div>\n",
              "<style scoped>\n",
              "    .dataframe tbody tr th:only-of-type {\n",
              "        vertical-align: middle;\n",
              "    }\n",
              "\n",
              "    .dataframe tbody tr th {\n",
              "        vertical-align: top;\n",
              "    }\n",
              "\n",
              "    .dataframe thead th {\n",
              "        text-align: right;\n",
              "    }\n",
              "</style>\n",
              "<table border=\"1\" class=\"dataframe\">\n",
              "  <thead>\n",
              "    <tr style=\"text-align: right;\">\n",
              "      <th></th>\n",
              "      <th>u</th>\n",
              "      <th>g</th>\n",
              "      <th>r</th>\n",
              "      <th>i</th>\n",
              "      <th>z</th>\n",
              "      <th>fiberMag_g</th>\n",
              "      <th>class</th>\n",
              "    </tr>\n",
              "  </thead>\n",
              "  <tbody>\n",
              "    <tr>\n",
              "      <th>0</th>\n",
              "      <td>17.98595</td>\n",
              "      <td>16.77582</td>\n",
              "      <td>16.22950</td>\n",
              "      <td>16.00589</td>\n",
              "      <td>15.89195</td>\n",
              "      <td>17.10288</td>\n",
              "      <td>STAR</td>\n",
              "    </tr>\n",
              "    <tr>\n",
              "      <th>1</th>\n",
              "      <td>19.23049</td>\n",
              "      <td>17.21716</td>\n",
              "      <td>16.38172</td>\n",
              "      <td>16.05841</td>\n",
              "      <td>15.88405</td>\n",
              "      <td>17.54239</td>\n",
              "      <td>STAR</td>\n",
              "    </tr>\n",
              "    <tr>\n",
              "      <th>2</th>\n",
              "      <td>18.12716</td>\n",
              "      <td>16.95737</td>\n",
              "      <td>16.40913</td>\n",
              "      <td>16.18926</td>\n",
              "      <td>16.05978</td>\n",
              "      <td>17.26884</td>\n",
              "      <td>STAR</td>\n",
              "    </tr>\n",
              "  </tbody>\n",
              "</table>\n",
              "</div>"
            ],
            "text/plain": [
              "          u         g         r         i         z  fiberMag_g class\n",
              "0  17.98595  16.77582  16.22950  16.00589  15.89195    17.10288  STAR\n",
              "1  19.23049  17.21716  16.38172  16.05841  15.88405    17.54239  STAR\n",
              "2  18.12716  16.95737  16.40913  16.18926  16.05978    17.26884  STAR"
            ]
          },
          "metadata": {
            "tags": []
          },
          "execution_count": 11
        }
      ]
    },
    {
      "cell_type": "markdown",
      "metadata": {
        "id": "VgXHNSX8mukZ"
      },
      "source": [
        "#### <font color = \"blue\"> Univariate analysis"
      ]
    },
    {
      "cell_type": "code",
      "metadata": {
        "colab": {
          "base_uri": "https://localhost:8080/",
          "height": 402
        },
        "id": "XAf7zroymukZ",
        "outputId": "bdec8b80-f036-4911-fb9a-1d122bd64565"
      },
      "source": [
        "plt.figure(figsize = (15,10))\n",
        "for i in range(1, len (df1.columns)):\n",
        "    plt.subplot(3,3,i)\n",
        "    sns.boxplot(y = df1[df1.columns[i-1]])\n",
        "    plt.title('boxplot of variable ' + df1.columns[i-1])\n",
        "plt.show()"
      ],
      "execution_count": 12,
      "outputs": [
        {
          "output_type": "display_data",
          "data": {
            "image/png": "[encoded data removed]",
            "text/plain": [
              "<Figure size 1080x720 with 6 Axes>"
            ]
          },
          "metadata": {
            "tags": [],
            "needs_background": "light"
          }
        }
      ]
    },
    {
      "cell_type": "markdown",
      "metadata": {
        "id": "yLJkeBitmukb"
      },
      "source": [
        "   <font color = 'blue'>\n",
        "    1.Outliers are present in all the variables present here <br>\n",
        "    2. Elimination of outliers needs to be done during data preparation stage\n",
        "\n",
        " "
      ]
    },
    {
      "cell_type": "markdown",
      "metadata": {
        "id": "JXL-ln3Omukb"
      },
      "source": [
        "##### Dsitribution of target variable"
      ]
    },
    {
      "cell_type": "code",
      "metadata": {
        "colab": {
          "base_uri": "https://localhost:8080/",
          "height": 297
        },
        "id": "KDiU0g9Zmukc",
        "outputId": "d1b7b87d-582a-4333-9ba0-d097c848be11"
      },
      "source": [
        "sns.countplot(x = df1['class'])"
      ],
      "execution_count": 13,
      "outputs": [
        {
          "output_type": "execute_result",
          "data": {
            "text/plain": [
              "<matplotlib.axes._subplots.AxesSubplot at 0x7fc802b1b850>"
            ]
          },
          "metadata": {
            "tags": []
          },
          "execution_count": 13
        },
        {
          "output_type": "display_data",
          "data": {
            "image/png": "[encoded data removed]",
            "text/plain": [
              "<Figure size 432x288 with 1 Axes>"
            ]
          },
          "metadata": {
            "tags": [],
            "needs_background": "light"
          }
        }
      ]
    },
    {
      "cell_type": "markdown",
      "metadata": {
        "id": "21o3GlRxUXGD"
      },
      "source": [
        "#### <font color = \"blue\"> Bivariate analysis"
      ]
    },
    {
      "cell_type": "code",
      "metadata": {
        "colab": {
          "base_uri": "https://localhost:8080/",
          "height": 611
        },
        "id": "6akKMi4FUXGD",
        "outputId": "0fdcab6a-3f37-42c4-8773-e8e60531a508"
      },
      "source": [
        "plt.figure(figsize = (15,12))\n",
        "for i in range(1, len (df1.columns)):\n",
        "    plt.subplot(3,3,i)\n",
        "    sns.boxplot(y = df1[df1.columns[i-1]], x = df1['class'])\n",
        "    plt.title('boxplot of variable ' + df1.columns[i-1])\n",
        "    plt.tight_layout(pad=1)\n",
        "plt.show()"
      ],
      "execution_count": 14,
      "outputs": [
        {
          "output_type": "display_data",
          "data": {
            "image/png": "[encoded data removed]",
            "text/plain": [
              "<Figure size 1080x864 with 6 Axes>"
            ]
          },
          "metadata": {
            "tags": [],
            "needs_background": "light"
          }
        }
      ]
    },
    {
      "cell_type": "markdown",
      "metadata": {
        "id": "8eiQEboNUXGD"
      },
      "source": [
        "##### Correlation matrix"
      ]
    },
    {
      "cell_type": "code",
      "metadata": {
        "colab": {
          "base_uri": "https://localhost:8080/",
          "height": 225
        },
        "id": "pymrvq6HUXGE",
        "outputId": "f0b5681e-87c5-44d3-835f-d3e6daa3ff6e"
      },
      "source": [
        "df1.corr()"
      ],
      "execution_count": 15,
      "outputs": [
        {
          "output_type": "execute_result",
          "data": {
            "text/html": [
              "<div>\n",
              "<style scoped>\n",
              "    .dataframe tbody tr th:only-of-type {\n",
              "        vertical-align: middle;\n",
              "    }\n",
              "\n",
              "    .dataframe tbody tr th {\n",
              "        vertical-align: top;\n",
              "    }\n",
              "\n",
              "    .dataframe thead th {\n",
              "        text-align: right;\n",
              "    }\n",
              "</style>\n",
              "<table border=\"1\" class=\"dataframe\">\n",
              "  <thead>\n",
              "    <tr style=\"text-align: right;\">\n",
              "      <th></th>\n",
              "      <th>u</th>\n",
              "      <th>g</th>\n",
              "      <th>r</th>\n",
              "      <th>i</th>\n",
              "      <th>z</th>\n",
              "      <th>fiberMag_g</th>\n",
              "    </tr>\n",
              "  </thead>\n",
              "  <tbody>\n",
              "    <tr>\n",
              "      <th>u</th>\n",
              "      <td>1.000000</td>\n",
              "      <td>0.882630</td>\n",
              "      <td>0.761892</td>\n",
              "      <td>0.698621</td>\n",
              "      <td>0.646904</td>\n",
              "      <td>0.807580</td>\n",
              "    </tr>\n",
              "    <tr>\n",
              "      <th>g</th>\n",
              "      <td>0.882630</td>\n",
              "      <td>1.000000</td>\n",
              "      <td>0.953533</td>\n",
              "      <td>0.921637</td>\n",
              "      <td>0.899306</td>\n",
              "      <td>0.832784</td>\n",
              "    </tr>\n",
              "    <tr>\n",
              "      <th>r</th>\n",
              "      <td>0.761892</td>\n",
              "      <td>0.953533</td>\n",
              "      <td>1.000000</td>\n",
              "      <td>0.982368</td>\n",
              "      <td>0.964247</td>\n",
              "      <td>0.763866</td>\n",
              "    </tr>\n",
              "    <tr>\n",
              "      <th>i</th>\n",
              "      <td>0.698621</td>\n",
              "      <td>0.921637</td>\n",
              "      <td>0.982368</td>\n",
              "      <td>1.000000</td>\n",
              "      <td>0.986483</td>\n",
              "      <td>0.712715</td>\n",
              "    </tr>\n",
              "    <tr>\n",
              "      <th>z</th>\n",
              "      <td>0.646904</td>\n",
              "      <td>0.899306</td>\n",
              "      <td>0.964247</td>\n",
              "      <td>0.986483</td>\n",
              "      <td>1.000000</td>\n",
              "      <td>0.665402</td>\n",
              "    </tr>\n",
              "    <tr>\n",
              "      <th>fiberMag_g</th>\n",
              "      <td>0.807580</td>\n",
              "      <td>0.832784</td>\n",
              "      <td>0.763866</td>\n",
              "      <td>0.712715</td>\n",
              "      <td>0.665402</td>\n",
              "      <td>1.000000</td>\n",
              "    </tr>\n",
              "  </tbody>\n",
              "</table>\n",
              "</div>"
            ],
            "text/plain": [
              "                   u         g         r         i         z  fiberMag_g\n",
              "u           1.000000  0.882630  0.761892  0.698621  0.646904    0.807580\n",
              "g           0.882630  1.000000  0.953533  0.921637  0.899306    0.832784\n",
              "r           0.761892  0.953533  1.000000  0.982368  0.964247    0.763866\n",
              "i           0.698621  0.921637  0.982368  1.000000  0.986483    0.712715\n",
              "z           0.646904  0.899306  0.964247  0.986483  1.000000    0.665402\n",
              "fiberMag_g  0.807580  0.832784  0.763866  0.712715  0.665402    1.000000"
            ]
          },
          "metadata": {
            "tags": []
          },
          "execution_count": 15
        }
      ]
    },
    {
      "cell_type": "markdown",
      "metadata": {
        "id": "02yYDIB1UXGE"
      },
      "source": [
        "##### Visualizing the heat map"
      ]
    },
    {
      "cell_type": "code",
      "metadata": {
        "colab": {
          "base_uri": "https://localhost:8080/",
          "height": 286
        },
        "id": "jG6mohC_UXGE",
        "outputId": "80fbe864-caa3-403d-d55f-8dee35c95b5a"
      },
      "source": [
        "sns.heatmap(df1.corr(), annot = True)\n",
        "plt.show()"
      ],
      "execution_count": 16,
      "outputs": [
        {
          "output_type": "display_data",
          "data": {
            "image/png": "[encoded data removed]",
            "text/plain": [
              "<Figure size 432x288 with 2 Axes>"
            ]
          },
          "metadata": {
            "tags": [],
            "needs_background": "light"
          }
        }
      ]
    },
    {
      "cell_type": "markdown",
      "metadata": {
        "id": "5WRT6WE_9XEc"
      },
      "source": [
        "#### Data preprocessing"
      ]
    },
    {
      "cell_type": "code",
      "metadata": {
        "id": "fRPvnmO7se1s"
      },
      "source": [
        "from sklearn.preprocessing import Normalizer\n",
        "from sklearn.model_selection import train_test_split"
      ],
      "execution_count": 17,
      "outputs": []
    },
    {
      "cell_type": "code",
      "metadata": {
        "colab": {
          "base_uri": "https://localhost:8080/",
          "height": 195
        },
        "id": "6QRqppRnS-Fr",
        "outputId": "54f0ec1c-5bb8-4143-8b35-b4d372a386ce"
      },
      "source": [
        "df1.head()"
      ],
      "execution_count": 18,
      "outputs": [
        {
          "output_type": "execute_result",
          "data": {
            "text/html": [
              "<div>\n",
              "<style scoped>\n",
              "    .dataframe tbody tr th:only-of-type {\n",
              "        vertical-align: middle;\n",
              "    }\n",
              "\n",
              "    .dataframe tbody tr th {\n",
              "        vertical-align: top;\n",
              "    }\n",
              "\n",
              "    .dataframe thead th {\n",
              "        text-align: right;\n",
              "    }\n",
              "</style>\n",
              "<table border=\"1\" class=\"dataframe\">\n",
              "  <thead>\n",
              "    <tr style=\"text-align: right;\">\n",
              "      <th></th>\n",
              "      <th>u</th>\n",
              "      <th>g</th>\n",
              "      <th>r</th>\n",
              "      <th>i</th>\n",
              "      <th>z</th>\n",
              "      <th>fiberMag_g</th>\n",
              "      <th>class</th>\n",
              "    </tr>\n",
              "  </thead>\n",
              "  <tbody>\n",
              "    <tr>\n",
              "      <th>0</th>\n",
              "      <td>17.98595</td>\n",
              "      <td>16.77582</td>\n",
              "      <td>16.22950</td>\n",
              "      <td>16.00589</td>\n",
              "      <td>15.89195</td>\n",
              "      <td>17.10288</td>\n",
              "      <td>STAR</td>\n",
              "    </tr>\n",
              "    <tr>\n",
              "      <th>1</th>\n",
              "      <td>19.23049</td>\n",
              "      <td>17.21716</td>\n",
              "      <td>16.38172</td>\n",
              "      <td>16.05841</td>\n",
              "      <td>15.88405</td>\n",
              "      <td>17.54239</td>\n",
              "      <td>STAR</td>\n",
              "    </tr>\n",
              "    <tr>\n",
              "      <th>2</th>\n",
              "      <td>18.12716</td>\n",
              "      <td>16.95737</td>\n",
              "      <td>16.40913</td>\n",
              "      <td>16.18926</td>\n",
              "      <td>16.05978</td>\n",
              "      <td>17.26884</td>\n",
              "      <td>STAR</td>\n",
              "    </tr>\n",
              "    <tr>\n",
              "      <th>3</th>\n",
              "      <td>18.35316</td>\n",
              "      <td>17.11153</td>\n",
              "      <td>16.61320</td>\n",
              "      <td>16.39966</td>\n",
              "      <td>16.27895</td>\n",
              "      <td>17.42352</td>\n",
              "      <td>STAR</td>\n",
              "    </tr>\n",
              "    <tr>\n",
              "      <th>4</th>\n",
              "      <td>18.35388</td>\n",
              "      <td>17.29353</td>\n",
              "      <td>16.86982</td>\n",
              "      <td>16.69375</td>\n",
              "      <td>16.61706</td>\n",
              "      <td>17.61114</td>\n",
              "      <td>STAR</td>\n",
              "    </tr>\n",
              "  </tbody>\n",
              "</table>\n",
              "</div>"
            ],
            "text/plain": [
              "          u         g         r         i         z  fiberMag_g class\n",
              "0  17.98595  16.77582  16.22950  16.00589  15.89195    17.10288  STAR\n",
              "1  19.23049  17.21716  16.38172  16.05841  15.88405    17.54239  STAR\n",
              "2  18.12716  16.95737  16.40913  16.18926  16.05978    17.26884  STAR\n",
              "3  18.35316  17.11153  16.61320  16.39966  16.27895    17.42352  STAR\n",
              "4  18.35388  17.29353  16.86982  16.69375  16.61706    17.61114  STAR"
            ]
          },
          "metadata": {
            "tags": []
          },
          "execution_count": 18
        }
      ]
    },
    {
      "cell_type": "code",
      "metadata": {
        "id": "TmTn3kFM5Bzt"
      },
      "source": [
        "df2 = df1.copy() # for later use"
      ],
      "execution_count": 19,
      "outputs": []
    },
    {
      "cell_type": "code",
      "metadata": {
        "id": "G-kLrFQHS-Iq"
      },
      "source": [
        "df1['class'] = df1['class'].map({'GALAXY':0, 'QSO':1, 'STAR':2})"
      ],
      "execution_count": 19,
      "outputs": []
    },
    {
      "cell_type": "markdown",
      "metadata": {
        "id": "ycfitc-fcYzP"
      },
      "source": [
        "#### Splitting into train and test dataset"
      ]
    },
    {
      "cell_type": "code",
      "metadata": {
        "id": "ArEp-O4lcpIO"
      },
      "source": [
        "X = df1.drop(columns = ['class'])\n",
        "y = df1.pop('class')"
      ],
      "execution_count": 20,
      "outputs": []
    },
    {
      "cell_type": "code",
      "metadata": {
        "id": "LDwtqHqlS-LX"
      },
      "source": [
        "X_train, X_test, y_train, y_test = train_test_split(X, y, train_size = 0.7, random_state = 100)"
      ],
      "execution_count": 21,
      "outputs": []
    },
    {
      "cell_type": "code",
      "metadata": {
        "colab": {
          "base_uri": "https://localhost:8080/"
        },
        "id": "NPhZVyxYdVPS",
        "outputId": "1b8cd7d6-cc8e-43cc-b0b9-9f02d0c238b1"
      },
      "source": [
        "print(X_train.shape)\n",
        "print(y_train.shape)\n",
        "print(X_test.shape)\n",
        "print(y_test.shape)"
      ],
      "execution_count": 22,
      "outputs": [
        {
          "output_type": "stream",
          "text": [
            "(700, 6)\n",
            "(700,)\n",
            "(300, 6)\n",
            "(300,)\n"
          ],
          "name": "stdout"
        }
      ]
    },
    {
      "cell_type": "code",
      "metadata": {
        "id": "H7HLHfIES-OA"
      },
      "source": [
        "scaler = Normalizer()\n",
        "X_train = scaler.fit_transform(X_train)\n",
        "X_test = scaler.transform(X_test)"
      ],
      "execution_count": 23,
      "outputs": []
    },
    {
      "cell_type": "code",
      "metadata": {
        "colab": {
          "base_uri": "https://localhost:8080/"
        },
        "id": "OlEnFKCAS-Tc",
        "outputId": "9f2014ee-ff84-4020-8bc4-c4529d2b3834"
      },
      "source": [
        "y_train = tf.one_hot(y_train, depth = 3)\n",
        "y_test = tf.one_hot(y_test, depth = 3)\n",
        "print(X_train.shape)\n",
        "print(y_train.shape)"
      ],
      "execution_count": 24,
      "outputs": [
        {
          "output_type": "stream",
          "text": [
            "(700, 6)\n",
            "(700, 3)\n"
          ],
          "name": "stdout"
        }
      ]
    },
    {
      "cell_type": "markdown",
      "metadata": {
        "id": "lLpyQN6Z5ovc"
      },
      "source": [
        "#### Building a callback"
      ]
    },
    {
      "cell_type": "code",
      "metadata": {
        "id": "ZOeXMuLY5rty"
      },
      "source": [
        "model_name_ann = 'sloan_ann' +'/'    \n",
        "if not os.path.exists(model_name_ann):\n",
        "    os.mkdir(model_name_ann)        \n",
        "filepath_ann = model_name_ann + 'model-{epoch:05d}-{loss:.2f}-{accuracy:.4f}-{val_loss:.2f}-{val_accuracy:.4f}.h5'\n",
        "model_checkpoint_callback_ann = tf.keras.callbacks.ModelCheckpoint(\n",
        "    filepath=filepath_ann,\n",
        "    monitor='val_accuracy',\n",
        "    mode='auto',\n",
        "    save_best_only=True,\n",
        "    verbose = 1\n",
        "    )\n",
        "callbacks_ann = [model_checkpoint_callback_ann]"
      ],
      "execution_count": 25,
      "outputs": []
    },
    {
      "cell_type": "markdown",
      "metadata": {
        "id": "0v6ZWwRn9lHQ"
      },
      "source": [
        "#### Model building"
      ]
    },
    {
      "cell_type": "markdown",
      "metadata": {
        "id": "--ivrxPlnrUA"
      },
      "source": [
        "##### Building a sequential  model"
      ]
    },
    {
      "cell_type": "code",
      "metadata": {
        "colab": {
          "base_uri": "https://localhost:8080/"
        },
        "id": "ToUksf7DjMBS",
        "outputId": "b1bb3619-62e7-4d07-a8e3-5f7cba914fdb"
      },
      "source": [
        "model  = Sequential()\n",
        "\n",
        "model.add(Dense(50,input_dim  = 6, activation  = 'relu'))\n",
        "model.add(Dense(100, activation  = 'relu'))\n",
        "model.add(Dense(150, activation  = 'relu'))\n",
        "model.add(Dense(3, activation  = 'softmax'))\n",
        "\n",
        "model.compile(loss='categorical_crossentropy', optimizer='adam', metrics=['accuracy'])\n",
        "model.summary()"
      ],
      "execution_count": 31,
      "outputs": [
        {
          "output_type": "stream",
          "text": [
            "Model: \"sequential\"\n",
            "_________________________________________________________________\n",
            "Layer (type)                 Output Shape              Param #   \n",
            "=================================================================\n",
            "dense (Dense)                (None, 50)                350       \n",
            "_________________________________________________________________\n",
            "dense_1 (Dense)              (None, 100)               5100      \n",
            "_________________________________________________________________\n",
            "dense_2 (Dense)              (None, 150)               15150     \n",
            "_________________________________________________________________\n",
            "dense_3 (Dense)              (None, 3)                 453       \n",
            "=================================================================\n",
            "Total params: 21,053\n",
            "Trainable params: 21,053\n",
            "Non-trainable params: 0\n",
            "_________________________________________________________________\n"
          ],
          "name": "stdout"
        }
      ]
    },
    {
      "cell_type": "markdown",
      "metadata": {
        "id": "7LPv2fsnMGBt"
      },
      "source": [
        "##### ANN model without weights"
      ]
    },
    {
      "cell_type": "code",
      "metadata": {
        "colab": {
          "base_uri": "https://localhost:8080/"
        },
        "id": "DvZHL6aPgmUo",
        "outputId": "ea3a46c1-a01d-445b-91e1-c3f16ce2708d"
      },
      "source": [
        "model.fit(X_train, y_train, epochs = 250, batch_size=8,validation_data = (X_test, y_test), callbacks=callbacks_ann)"
      ],
      "execution_count": 34,
      "outputs": [
        {
          "output_type": "stream",
          "text": [
            "Epoch 1/250\n",
            "88/88 [==============================] - 2s 4ms/step - loss: 0.9118 - accuracy: 0.4957 - val_loss: 0.8730 - val_accuracy: 0.4933\n",
            "\n",
            "Epoch 00001: val_accuracy improved from -inf to 0.49333, saving model to sloan_ann/model-00001-0.91-0.4957-0.87-0.4933.h5\n",
            "Epoch 2/250\n",
            "88/88 [==============================] - 0s 3ms/step - loss: 0.8897 - accuracy: 0.4886 - val_loss: 0.8628 - val_accuracy: 0.4933\n",
            "\n",
            "Epoch 00002: val_accuracy did not improve from 0.49333\n",
            "Epoch 3/250\n",
            "88/88 [==============================] - 0s 2ms/step - loss: 0.8795 - accuracy: 0.5143 - val_loss: 0.8568 - val_accuracy: 0.8633\n",
            "\n",
            "Epoch 00003: val_accuracy improved from 0.49333 to 0.86333, saving model to sloan_ann/model-00003-0.88-0.5143-0.86-0.8633.h5\n",
            "Epoch 4/250\n",
            "88/88 [==============================] - 0s 2ms/step - loss: 0.8746 - accuracy: 0.5500 - val_loss: 0.8453 - val_accuracy: 0.8733\n",
            "\n",
            "Epoch 00004: val_accuracy improved from 0.86333 to 0.87333, saving model to sloan_ann/model-00004-0.87-0.5500-0.85-0.8733.h5\n",
            "Epoch 5/250\n",
            "88/88 [==============================] - 0s 2ms/step - loss: 0.8628 - accuracy: 0.5900 - val_loss: 0.8343 - val_accuracy: 0.4967\n",
            "\n",
            "Epoch 00005: val_accuracy did not improve from 0.87333\n",
            "Epoch 6/250\n",
            "88/88 [==============================] - 0s 3ms/step - loss: 0.8431 - accuracy: 0.5529 - val_loss: 0.8009 - val_accuracy: 0.5067\n",
            "\n",
            "Epoch 00006: val_accuracy did not improve from 0.87333\n",
            "Epoch 7/250\n",
            "88/88 [==============================] - 0s 2ms/step - loss: 0.8001 - accuracy: 0.6400 - val_loss: 0.7238 - val_accuracy: 0.8100\n",
            "\n",
            "Epoch 00007: val_accuracy did not improve from 0.87333\n",
            "Epoch 8/250\n",
            "88/88 [==============================] - 0s 2ms/step - loss: 0.7434 - accuracy: 0.7114 - val_loss: 0.7262 - val_accuracy: 0.5933\n",
            "\n",
            "Epoch 00008: val_accuracy did not improve from 0.87333\n",
            "Epoch 9/250\n",
            "88/88 [==============================] - 0s 2ms/step - loss: 0.6354 - accuracy: 0.7700 - val_loss: 0.5206 - val_accuracy: 0.8800\n",
            "\n",
            "Epoch 00009: val_accuracy improved from 0.87333 to 0.88000, saving model to sloan_ann/model-00009-0.64-0.7700-0.52-0.8800.h5\n",
            "Epoch 10/250\n",
            "88/88 [==============================] - 0s 2ms/step - loss: 0.5506 - accuracy: 0.8157 - val_loss: 0.4408 - val_accuracy: 0.8900\n",
            "\n",
            "Epoch 00010: val_accuracy improved from 0.88000 to 0.89000, saving model to sloan_ann/model-00010-0.55-0.8157-0.44-0.8900.h5\n",
            "Epoch 11/250\n",
            "88/88 [==============================] - 0s 2ms/step - loss: 0.5043 - accuracy: 0.8171 - val_loss: 0.3983 - val_accuracy: 0.8867\n",
            "\n",
            "Epoch 00011: val_accuracy did not improve from 0.89000\n",
            "Epoch 12/250\n",
            "88/88 [==============================] - 0s 2ms/step - loss: 0.4780 - accuracy: 0.8429 - val_loss: 0.3838 - val_accuracy: 0.8833\n",
            "\n",
            "Epoch 00012: val_accuracy did not improve from 0.89000\n",
            "Epoch 13/250\n",
            "88/88 [==============================] - 0s 2ms/step - loss: 0.4485 - accuracy: 0.8314 - val_loss: 0.3649 - val_accuracy: 0.8933\n",
            "\n",
            "Epoch 00013: val_accuracy improved from 0.89000 to 0.89333, saving model to sloan_ann/model-00013-0.45-0.8314-0.36-0.8933.h5\n",
            "Epoch 14/250\n",
            "88/88 [==============================] - 0s 2ms/step - loss: 0.5082 - accuracy: 0.8014 - val_loss: 0.3867 - val_accuracy: 0.8767\n",
            "\n",
            "Epoch 00014: val_accuracy did not improve from 0.89333\n",
            "Epoch 15/250\n",
            "88/88 [==============================] - 0s 2ms/step - loss: 0.4014 - accuracy: 0.8643 - val_loss: 0.3474 - val_accuracy: 0.9000\n",
            "\n",
            "Epoch 00015: val_accuracy improved from 0.89333 to 0.90000, saving model to sloan_ann/model-00015-0.40-0.8643-0.35-0.9000.h5\n",
            "Epoch 16/250\n",
            "88/88 [==============================] - 0s 2ms/step - loss: 0.3882 - accuracy: 0.8657 - val_loss: 0.3616 - val_accuracy: 0.8867\n",
            "\n",
            "Epoch 00016: val_accuracy did not improve from 0.90000\n",
            "Epoch 17/250\n",
            "88/88 [==============================] - 0s 3ms/step - loss: 0.3705 - accuracy: 0.8743 - val_loss: 0.3818 - val_accuracy: 0.8867\n",
            "\n",
            "Epoch 00017: val_accuracy did not improve from 0.90000\n",
            "Epoch 18/250\n",
            "88/88 [==============================] - 0s 2ms/step - loss: 0.3809 - accuracy: 0.8686 - val_loss: 0.3235 - val_accuracy: 0.9000\n",
            "\n",
            "Epoch 00018: val_accuracy did not improve from 0.90000\n",
            "Epoch 19/250\n",
            "88/88 [==============================] - 0s 2ms/step - loss: 0.3515 - accuracy: 0.8800 - val_loss: 0.3646 - val_accuracy: 0.8867\n",
            "\n",
            "Epoch 00019: val_accuracy did not improve from 0.90000\n",
            "Epoch 20/250\n",
            "88/88 [==============================] - 0s 2ms/step - loss: 0.3421 - accuracy: 0.8929 - val_loss: 0.3062 - val_accuracy: 0.9067\n",
            "\n",
            "Epoch 00020: val_accuracy improved from 0.90000 to 0.90667, saving model to sloan_ann/model-00020-0.34-0.8929-0.31-0.9067.h5\n",
            "Epoch 21/250\n",
            "88/88 [==============================] - 0s 2ms/step - loss: 0.4235 - accuracy: 0.8443 - val_loss: 0.3406 - val_accuracy: 0.8967\n",
            "\n",
            "Epoch 00021: val_accuracy did not improve from 0.90667\n",
            "Epoch 22/250\n",
            "88/88 [==============================] - 0s 2ms/step - loss: 0.3353 - accuracy: 0.8871 - val_loss: 0.3362 - val_accuracy: 0.8967\n",
            "\n",
            "Epoch 00022: val_accuracy did not improve from 0.90667\n",
            "Epoch 23/250\n",
            "88/88 [==============================] - 0s 2ms/step - loss: 0.3260 - accuracy: 0.8914 - val_loss: 0.3027 - val_accuracy: 0.9167\n",
            "\n",
            "Epoch 00023: val_accuracy improved from 0.90667 to 0.91667, saving model to sloan_ann/model-00023-0.33-0.8914-0.30-0.9167.h5\n",
            "Epoch 24/250\n",
            "88/88 [==============================] - 0s 3ms/step - loss: 0.3074 - accuracy: 0.9029 - val_loss: 0.2944 - val_accuracy: 0.9200\n",
            "\n",
            "Epoch 00024: val_accuracy improved from 0.91667 to 0.92000, saving model to sloan_ann/model-00024-0.31-0.9029-0.29-0.9200.h5\n",
            "Epoch 25/250\n",
            "88/88 [==============================] - 0s 2ms/step - loss: 0.2926 - accuracy: 0.9029 - val_loss: 0.2920 - val_accuracy: 0.9167\n",
            "\n",
            "Epoch 00025: val_accuracy did not improve from 0.92000\n",
            "Epoch 26/250\n",
            "88/88 [==============================] - 0s 2ms/step - loss: 0.2948 - accuracy: 0.9014 - val_loss: 0.2730 - val_accuracy: 0.9200\n",
            "\n",
            "Epoch 00026: val_accuracy did not improve from 0.92000\n",
            "Epoch 27/250\n",
            "88/88 [==============================] - 0s 2ms/step - loss: 0.3684 - accuracy: 0.8771 - val_loss: 0.3642 - val_accuracy: 0.8900\n",
            "\n",
            "Epoch 00027: val_accuracy did not improve from 0.92000\n",
            "Epoch 28/250\n",
            "88/88 [==============================] - 0s 2ms/step - loss: 0.2795 - accuracy: 0.9086 - val_loss: 0.2888 - val_accuracy: 0.9167\n",
            "\n",
            "Epoch 00028: val_accuracy did not improve from 0.92000\n",
            "Epoch 29/250\n",
            "88/88 [==============================] - 0s 2ms/step - loss: 0.2769 - accuracy: 0.9014 - val_loss: 0.3125 - val_accuracy: 0.9133\n",
            "\n",
            "Epoch 00029: val_accuracy did not improve from 0.92000\n",
            "Epoch 30/250\n",
            "88/88 [==============================] - 0s 2ms/step - loss: 0.2771 - accuracy: 0.9043 - val_loss: 0.2679 - val_accuracy: 0.9267\n",
            "\n",
            "Epoch 00030: val_accuracy improved from 0.92000 to 0.92667, saving model to sloan_ann/model-00030-0.28-0.9043-0.27-0.9267.h5\n",
            "Epoch 31/250\n",
            "88/88 [==============================] - 0s 2ms/step - loss: 0.2407 - accuracy: 0.9129 - val_loss: 0.2977 - val_accuracy: 0.9067\n",
            "\n",
            "Epoch 00031: val_accuracy did not improve from 0.92667\n",
            "Epoch 32/250\n",
            "88/88 [==============================] - 0s 2ms/step - loss: 0.2936 - accuracy: 0.8929 - val_loss: 0.2485 - val_accuracy: 0.9267\n",
            "\n",
            "Epoch 00032: val_accuracy did not improve from 0.92667\n",
            "Epoch 33/250\n",
            "88/88 [==============================] - 0s 2ms/step - loss: 0.2610 - accuracy: 0.9071 - val_loss: 0.2839 - val_accuracy: 0.9133\n",
            "\n",
            "Epoch 00033: val_accuracy did not improve from 0.92667\n",
            "Epoch 34/250\n",
            "88/88 [==============================] - 0s 2ms/step - loss: 0.2428 - accuracy: 0.9057 - val_loss: 0.2357 - val_accuracy: 0.9267\n",
            "\n",
            "Epoch 00034: val_accuracy did not improve from 0.92667\n",
            "Epoch 35/250\n",
            "88/88 [==============================] - 0s 2ms/step - loss: 0.2361 - accuracy: 0.9143 - val_loss: 0.2289 - val_accuracy: 0.9267\n",
            "\n",
            "Epoch 00035: val_accuracy did not improve from 0.92667\n",
            "Epoch 36/250\n",
            "88/88 [==============================] - 0s 2ms/step - loss: 0.2318 - accuracy: 0.9143 - val_loss: 0.3513 - val_accuracy: 0.9033\n",
            "\n",
            "Epoch 00036: val_accuracy did not improve from 0.92667\n",
            "Epoch 37/250\n",
            "88/88 [==============================] - 0s 2ms/step - loss: 0.2189 - accuracy: 0.9171 - val_loss: 0.2239 - val_accuracy: 0.9267\n",
            "\n",
            "Epoch 00037: val_accuracy did not improve from 0.92667\n",
            "Epoch 38/250\n",
            "88/88 [==============================] - 0s 2ms/step - loss: 0.2993 - accuracy: 0.8857 - val_loss: 0.2786 - val_accuracy: 0.9033\n",
            "\n",
            "Epoch 00038: val_accuracy did not improve from 0.92667\n",
            "Epoch 39/250\n",
            "88/88 [==============================] - 0s 2ms/step - loss: 0.2414 - accuracy: 0.9043 - val_loss: 0.2491 - val_accuracy: 0.9133\n",
            "\n",
            "Epoch 00039: val_accuracy did not improve from 0.92667\n",
            "Epoch 40/250\n",
            "88/88 [==============================] - 0s 2ms/step - loss: 0.2650 - accuracy: 0.8957 - val_loss: 0.2249 - val_accuracy: 0.9133\n",
            "\n",
            "Epoch 00040: val_accuracy did not improve from 0.92667\n",
            "Epoch 41/250\n",
            "88/88 [==============================] - 0s 2ms/step - loss: 0.2156 - accuracy: 0.9171 - val_loss: 0.2153 - val_accuracy: 0.9300\n",
            "\n",
            "Epoch 00041: val_accuracy improved from 0.92667 to 0.93000, saving model to sloan_ann/model-00041-0.22-0.9171-0.22-0.9300.h5\n",
            "Epoch 42/250\n",
            "88/88 [==============================] - 0s 2ms/step - loss: 0.2213 - accuracy: 0.9300 - val_loss: 0.2979 - val_accuracy: 0.9267\n",
            "\n",
            "Epoch 00042: val_accuracy did not improve from 0.93000\n",
            "Epoch 43/250\n",
            "88/88 [==============================] - 0s 2ms/step - loss: 0.2031 - accuracy: 0.9257 - val_loss: 0.2787 - val_accuracy: 0.9400\n",
            "\n",
            "Epoch 00043: val_accuracy improved from 0.93000 to 0.94000, saving model to sloan_ann/model-00043-0.20-0.9257-0.28-0.9400.h5\n",
            "Epoch 44/250\n",
            "88/88 [==============================] - 0s 2ms/step - loss: 0.1983 - accuracy: 0.9371 - val_loss: 0.2257 - val_accuracy: 0.9133\n",
            "\n",
            "Epoch 00044: val_accuracy did not improve from 0.94000\n",
            "Epoch 45/250\n",
            "88/88 [==============================] - 0s 2ms/step - loss: 0.2448 - accuracy: 0.9257 - val_loss: 0.3793 - val_accuracy: 0.8833\n",
            "\n",
            "Epoch 00045: val_accuracy did not improve from 0.94000\n",
            "Epoch 46/250\n",
            "88/88 [==============================] - 0s 2ms/step - loss: 0.1924 - accuracy: 0.9414 - val_loss: 0.2750 - val_accuracy: 0.9633\n",
            "\n",
            "Epoch 00046: val_accuracy improved from 0.94000 to 0.96333, saving model to sloan_ann/model-00046-0.19-0.9414-0.28-0.9633.h5\n",
            "Epoch 47/250\n",
            "88/88 [==============================] - 0s 2ms/step - loss: 0.2450 - accuracy: 0.9214 - val_loss: 0.2522 - val_accuracy: 0.9533\n",
            "\n",
            "Epoch 00047: val_accuracy did not improve from 0.96333\n",
            "Epoch 48/250\n",
            "88/88 [==============================] - 0s 2ms/step - loss: 0.2277 - accuracy: 0.9243 - val_loss: 0.2070 - val_accuracy: 0.9267\n",
            "\n",
            "Epoch 00048: val_accuracy did not improve from 0.96333\n",
            "Epoch 49/250\n",
            "88/88 [==============================] - 0s 2ms/step - loss: 0.1782 - accuracy: 0.9486 - val_loss: 0.2118 - val_accuracy: 0.9600\n",
            "\n",
            "Epoch 00049: val_accuracy did not improve from 0.96333\n",
            "Epoch 50/250\n",
            "88/88 [==============================] - 0s 2ms/step - loss: 0.2538 - accuracy: 0.9200 - val_loss: 0.2100 - val_accuracy: 0.9700\n",
            "\n",
            "Epoch 00050: val_accuracy improved from 0.96333 to 0.97000, saving model to sloan_ann/model-00050-0.25-0.9200-0.21-0.9700.h5\n",
            "Epoch 51/250\n",
            "88/88 [==============================] - 0s 2ms/step - loss: 0.1732 - accuracy: 0.9486 - val_loss: 0.2834 - val_accuracy: 0.9367\n",
            "\n",
            "Epoch 00051: val_accuracy did not improve from 0.97000\n",
            "Epoch 52/250\n",
            "88/88 [==============================] - 0s 2ms/step - loss: 0.2366 - accuracy: 0.9243 - val_loss: 0.1950 - val_accuracy: 0.9600\n",
            "\n",
            "Epoch 00052: val_accuracy did not improve from 0.97000\n",
            "Epoch 53/250\n",
            "88/88 [==============================] - 0s 2ms/step - loss: 0.1649 - accuracy: 0.9500 - val_loss: 0.2799 - val_accuracy: 0.9467\n",
            "\n",
            "Epoch 00053: val_accuracy did not improve from 0.97000\n",
            "Epoch 54/250\n",
            "88/88 [==============================] - 0s 2ms/step - loss: 0.2337 - accuracy: 0.9257 - val_loss: 0.2261 - val_accuracy: 0.9633\n",
            "\n",
            "Epoch 00054: val_accuracy did not improve from 0.97000\n",
            "Epoch 55/250\n",
            "88/88 [==============================] - 0s 2ms/step - loss: 0.1883 - accuracy: 0.9500 - val_loss: 0.3668 - val_accuracy: 0.8467\n",
            "\n",
            "Epoch 00055: val_accuracy did not improve from 0.97000\n",
            "Epoch 56/250\n",
            "88/88 [==============================] - 0s 2ms/step - loss: 0.1791 - accuracy: 0.9500 - val_loss: 0.4398 - val_accuracy: 0.8300\n",
            "\n",
            "Epoch 00056: val_accuracy did not improve from 0.97000\n",
            "Epoch 57/250\n",
            "88/88 [==============================] - 0s 2ms/step - loss: 0.1962 - accuracy: 0.9300 - val_loss: 0.2946 - val_accuracy: 0.9000\n",
            "\n",
            "Epoch 00057: val_accuracy did not improve from 0.97000\n",
            "Epoch 58/250\n",
            "88/88 [==============================] - 0s 2ms/step - loss: 0.1751 - accuracy: 0.9514 - val_loss: 0.2254 - val_accuracy: 0.9467\n",
            "\n",
            "Epoch 00058: val_accuracy did not improve from 0.97000\n",
            "Epoch 59/250\n",
            "88/88 [==============================] - 0s 2ms/step - loss: 0.2315 - accuracy: 0.9200 - val_loss: 0.3882 - val_accuracy: 0.8100\n",
            "\n",
            "Epoch 00059: val_accuracy did not improve from 0.97000\n",
            "Epoch 60/250\n",
            "88/88 [==============================] - 0s 2ms/step - loss: 0.1893 - accuracy: 0.9429 - val_loss: 0.4480 - val_accuracy: 0.8267\n",
            "\n",
            "Epoch 00060: val_accuracy did not improve from 0.97000\n",
            "Epoch 61/250\n",
            "88/88 [==============================] - 0s 2ms/step - loss: 0.1961 - accuracy: 0.9314 - val_loss: 0.2434 - val_accuracy: 0.9400\n",
            "\n",
            "Epoch 00061: val_accuracy did not improve from 0.97000\n",
            "Epoch 62/250\n",
            "88/88 [==============================] - 0s 2ms/step - loss: 0.1693 - accuracy: 0.9557 - val_loss: 0.2064 - val_accuracy: 0.9633\n",
            "\n",
            "Epoch 00062: val_accuracy did not improve from 0.97000\n",
            "Epoch 63/250\n",
            "88/88 [==============================] - 0s 2ms/step - loss: 0.1483 - accuracy: 0.9586 - val_loss: 0.1848 - val_accuracy: 0.9700\n",
            "\n",
            "Epoch 00063: val_accuracy did not improve from 0.97000\n",
            "Epoch 64/250\n",
            "88/88 [==============================] - 0s 2ms/step - loss: 0.1514 - accuracy: 0.9614 - val_loss: 0.1945 - val_accuracy: 0.9667\n",
            "\n",
            "Epoch 00064: val_accuracy did not improve from 0.97000\n",
            "Epoch 65/250\n",
            "88/88 [==============================] - 0s 2ms/step - loss: 0.1541 - accuracy: 0.9557 - val_loss: 0.1939 - val_accuracy: 0.9633\n",
            "\n",
            "Epoch 00065: val_accuracy did not improve from 0.97000\n",
            "Epoch 66/250\n",
            "88/88 [==============================] - 0s 2ms/step - loss: 0.1867 - accuracy: 0.9357 - val_loss: 0.2643 - val_accuracy: 0.9100\n",
            "\n",
            "Epoch 00066: val_accuracy did not improve from 0.97000\n",
            "Epoch 67/250\n",
            "88/88 [==============================] - 0s 2ms/step - loss: 0.2020 - accuracy: 0.9443 - val_loss: 0.1967 - val_accuracy: 0.9667\n",
            "\n",
            "Epoch 00067: val_accuracy did not improve from 0.97000\n",
            "Epoch 68/250\n",
            "88/88 [==============================] - 0s 2ms/step - loss: 0.1858 - accuracy: 0.9471 - val_loss: 0.1936 - val_accuracy: 0.9700\n",
            "\n",
            "Epoch 00068: val_accuracy did not improve from 0.97000\n",
            "Epoch 69/250\n",
            "88/88 [==============================] - 0s 2ms/step - loss: 0.1984 - accuracy: 0.9443 - val_loss: 0.2060 - val_accuracy: 0.9567\n",
            "\n",
            "Epoch 00069: val_accuracy did not improve from 0.97000\n",
            "Epoch 70/250\n",
            "88/88 [==============================] - 0s 2ms/step - loss: 0.1459 - accuracy: 0.9629 - val_loss: 0.1946 - val_accuracy: 0.9700\n",
            "\n",
            "Epoch 00070: val_accuracy did not improve from 0.97000\n",
            "Epoch 71/250\n",
            "88/88 [==============================] - 0s 2ms/step - loss: 0.1877 - accuracy: 0.9386 - val_loss: 0.2689 - val_accuracy: 0.9300\n",
            "\n",
            "Epoch 00071: val_accuracy did not improve from 0.97000\n",
            "Epoch 72/250\n",
            "88/88 [==============================] - 0s 2ms/step - loss: 0.1890 - accuracy: 0.9429 - val_loss: 0.1952 - val_accuracy: 0.9633\n",
            "\n",
            "Epoch 00072: val_accuracy did not improve from 0.97000\n",
            "Epoch 73/250\n",
            "88/88 [==============================] - 0s 2ms/step - loss: 0.1976 - accuracy: 0.9414 - val_loss: 0.2480 - val_accuracy: 0.9267\n",
            "\n",
            "Epoch 00073: val_accuracy did not improve from 0.97000\n",
            "Epoch 74/250\n",
            "88/88 [==============================] - 0s 3ms/step - loss: 0.1677 - accuracy: 0.9543 - val_loss: 0.2139 - val_accuracy: 0.9333\n",
            "\n",
            "Epoch 00074: val_accuracy did not improve from 0.97000\n",
            "Epoch 75/250\n",
            "88/88 [==============================] - 0s 2ms/step - loss: 0.1962 - accuracy: 0.9400 - val_loss: 0.1795 - val_accuracy: 0.9733\n",
            "\n",
            "Epoch 00075: val_accuracy improved from 0.97000 to 0.97333, saving model to sloan_ann/model-00075-0.20-0.9400-0.18-0.9733.h5\n",
            "Epoch 76/250\n",
            "88/88 [==============================] - 0s 2ms/step - loss: 0.1993 - accuracy: 0.9329 - val_loss: 0.2083 - val_accuracy: 0.9533\n",
            "\n",
            "Epoch 00076: val_accuracy did not improve from 0.97333\n",
            "Epoch 77/250\n",
            "88/88 [==============================] - 0s 2ms/step - loss: 0.1635 - accuracy: 0.9486 - val_loss: 0.2398 - val_accuracy: 0.9300\n",
            "\n",
            "Epoch 00077: val_accuracy did not improve from 0.97333\n",
            "Epoch 78/250\n",
            "88/88 [==============================] - 0s 2ms/step - loss: 0.2002 - accuracy: 0.9257 - val_loss: 0.2089 - val_accuracy: 0.9567\n",
            "\n",
            "Epoch 00078: val_accuracy did not improve from 0.97333\n",
            "Epoch 79/250\n",
            "88/88 [==============================] - 0s 2ms/step - loss: 0.1516 - accuracy: 0.9529 - val_loss: 0.2620 - val_accuracy: 0.9400\n",
            "\n",
            "Epoch 00079: val_accuracy did not improve from 0.97333\n",
            "Epoch 80/250\n",
            "88/88 [==============================] - 0s 2ms/step - loss: 0.1841 - accuracy: 0.9414 - val_loss: 0.2958 - val_accuracy: 0.9000\n",
            "\n",
            "Epoch 00080: val_accuracy did not improve from 0.97333\n",
            "Epoch 81/250\n",
            "88/88 [==============================] - 0s 2ms/step - loss: 0.1578 - accuracy: 0.9571 - val_loss: 0.1863 - val_accuracy: 0.9700\n",
            "\n",
            "Epoch 00081: val_accuracy did not improve from 0.97333\n",
            "Epoch 82/250\n",
            "88/88 [==============================] - 0s 2ms/step - loss: 0.1450 - accuracy: 0.9614 - val_loss: 0.2024 - val_accuracy: 0.9600\n",
            "\n",
            "Epoch 00082: val_accuracy did not improve from 0.97333\n",
            "Epoch 83/250\n",
            "88/88 [==============================] - 0s 2ms/step - loss: 0.1514 - accuracy: 0.9543 - val_loss: 0.2658 - val_accuracy: 0.9433\n",
            "\n",
            "Epoch 00083: val_accuracy did not improve from 0.97333\n",
            "Epoch 84/250\n",
            "88/88 [==============================] - 0s 2ms/step - loss: 0.1634 - accuracy: 0.9514 - val_loss: 0.3753 - val_accuracy: 0.8767\n",
            "\n",
            "Epoch 00084: val_accuracy did not improve from 0.97333\n",
            "Epoch 85/250\n",
            "88/88 [==============================] - 0s 2ms/step - loss: 0.1778 - accuracy: 0.9414 - val_loss: 0.2614 - val_accuracy: 0.9167\n",
            "\n",
            "Epoch 00085: val_accuracy did not improve from 0.97333\n",
            "Epoch 86/250\n",
            "88/88 [==============================] - 0s 2ms/step - loss: 0.1902 - accuracy: 0.9471 - val_loss: 0.2137 - val_accuracy: 0.9600\n",
            "\n",
            "Epoch 00086: val_accuracy did not improve from 0.97333\n",
            "Epoch 87/250\n",
            "88/88 [==============================] - 0s 2ms/step - loss: 0.1323 - accuracy: 0.9586 - val_loss: 0.2125 - val_accuracy: 0.9600\n",
            "\n",
            "Epoch 00087: val_accuracy did not improve from 0.97333\n",
            "Epoch 88/250\n",
            "88/88 [==============================] - 0s 2ms/step - loss: 0.1608 - accuracy: 0.9586 - val_loss: 0.1980 - val_accuracy: 0.9633\n",
            "\n",
            "Epoch 00088: val_accuracy did not improve from 0.97333\n",
            "Epoch 89/250\n",
            "88/88 [==============================] - 0s 2ms/step - loss: 0.1564 - accuracy: 0.9500 - val_loss: 0.2572 - val_accuracy: 0.9367\n",
            "\n",
            "Epoch 00089: val_accuracy did not improve from 0.97333\n",
            "Epoch 90/250\n",
            "88/88 [==============================] - 0s 2ms/step - loss: 0.2184 - accuracy: 0.9257 - val_loss: 0.1860 - val_accuracy: 0.9733\n",
            "\n",
            "Epoch 00090: val_accuracy did not improve from 0.97333\n",
            "Epoch 91/250\n",
            "88/88 [==============================] - 0s 2ms/step - loss: 0.1527 - accuracy: 0.9600 - val_loss: 0.1841 - val_accuracy: 0.9667\n",
            "\n",
            "Epoch 00091: val_accuracy did not improve from 0.97333\n",
            "Epoch 92/250\n",
            "88/88 [==============================] - 0s 2ms/step - loss: 0.1550 - accuracy: 0.9557 - val_loss: 0.1949 - val_accuracy: 0.9667\n",
            "\n",
            "Epoch 00092: val_accuracy did not improve from 0.97333\n",
            "Epoch 93/250\n",
            "88/88 [==============================] - 0s 2ms/step - loss: 0.1864 - accuracy: 0.9300 - val_loss: 0.2335 - val_accuracy: 0.9600\n",
            "\n",
            "Epoch 00093: val_accuracy did not improve from 0.97333\n",
            "Epoch 94/250\n",
            "88/88 [==============================] - 0s 2ms/step - loss: 0.1473 - accuracy: 0.9614 - val_loss: 0.2441 - val_accuracy: 0.9333\n",
            "\n",
            "Epoch 00094: val_accuracy did not improve from 0.97333\n",
            "Epoch 95/250\n",
            "88/88 [==============================] - 0s 2ms/step - loss: 0.1627 - accuracy: 0.9486 - val_loss: 0.1910 - val_accuracy: 0.9667\n",
            "\n",
            "Epoch 00095: val_accuracy did not improve from 0.97333\n",
            "Epoch 96/250\n",
            "88/88 [==============================] - 0s 2ms/step - loss: 0.1672 - accuracy: 0.9500 - val_loss: 0.2234 - val_accuracy: 0.9500\n",
            "\n",
            "Epoch 00096: val_accuracy did not improve from 0.97333\n",
            "Epoch 97/250\n",
            "88/88 [==============================] - 0s 2ms/step - loss: 0.1618 - accuracy: 0.9514 - val_loss: 0.1868 - val_accuracy: 0.9700\n",
            "\n",
            "Epoch 00097: val_accuracy did not improve from 0.97333\n",
            "Epoch 98/250\n",
            "88/88 [==============================] - 0s 2ms/step - loss: 0.1813 - accuracy: 0.9400 - val_loss: 0.1989 - val_accuracy: 0.9600\n",
            "\n",
            "Epoch 00098: val_accuracy did not improve from 0.97333\n",
            "Epoch 99/250\n",
            "88/88 [==============================] - 0s 2ms/step - loss: 0.2165 - accuracy: 0.9271 - val_loss: 0.1921 - val_accuracy: 0.9700\n",
            "\n",
            "Epoch 00099: val_accuracy did not improve from 0.97333\n",
            "Epoch 100/250\n",
            "88/88 [==============================] - 0s 2ms/step - loss: 0.1845 - accuracy: 0.9457 - val_loss: 0.1870 - val_accuracy: 0.9733\n",
            "\n",
            "Epoch 00100: val_accuracy did not improve from 0.97333\n",
            "Epoch 101/250\n",
            "88/88 [==============================] - 0s 2ms/step - loss: 0.1371 - accuracy: 0.9657 - val_loss: 0.1969 - val_accuracy: 0.9633\n",
            "\n",
            "Epoch 00101: val_accuracy did not improve from 0.97333\n",
            "Epoch 102/250\n",
            "88/88 [==============================] - 0s 2ms/step - loss: 0.1719 - accuracy: 0.9500 - val_loss: 0.1900 - val_accuracy: 0.9633\n",
            "\n",
            "Epoch 00102: val_accuracy did not improve from 0.97333\n",
            "Epoch 103/250\n",
            "88/88 [==============================] - 0s 2ms/step - loss: 0.1806 - accuracy: 0.9371 - val_loss: 0.1919 - val_accuracy: 0.9733\n",
            "\n",
            "Epoch 00103: val_accuracy did not improve from 0.97333\n",
            "Epoch 104/250\n",
            "88/88 [==============================] - 0s 2ms/step - loss: 0.1413 - accuracy: 0.9600 - val_loss: 0.2917 - val_accuracy: 0.9000\n",
            "\n",
            "Epoch 00104: val_accuracy did not improve from 0.97333\n",
            "Epoch 105/250\n",
            "88/88 [==============================] - 0s 2ms/step - loss: 0.1600 - accuracy: 0.9514 - val_loss: 0.3392 - val_accuracy: 0.8867\n",
            "\n",
            "Epoch 00105: val_accuracy did not improve from 0.97333\n",
            "Epoch 106/250\n",
            "88/88 [==============================] - 0s 2ms/step - loss: 0.1781 - accuracy: 0.9471 - val_loss: 0.2641 - val_accuracy: 0.9267\n",
            "\n",
            "Epoch 00106: val_accuracy did not improve from 0.97333\n",
            "Epoch 107/250\n",
            "88/88 [==============================] - 0s 2ms/step - loss: 0.1437 - accuracy: 0.9586 - val_loss: 0.1913 - val_accuracy: 0.9700\n",
            "\n",
            "Epoch 00107: val_accuracy did not improve from 0.97333\n",
            "Epoch 108/250\n",
            "88/88 [==============================] - 0s 3ms/step - loss: 0.1840 - accuracy: 0.9357 - val_loss: 0.1862 - val_accuracy: 0.9667\n",
            "\n",
            "Epoch 00108: val_accuracy did not improve from 0.97333\n",
            "Epoch 109/250\n",
            "88/88 [==============================] - 0s 2ms/step - loss: 0.1671 - accuracy: 0.9543 - val_loss: 0.1865 - val_accuracy: 0.9633\n",
            "\n",
            "Epoch 00109: val_accuracy did not improve from 0.97333\n",
            "Epoch 110/250\n",
            "88/88 [==============================] - 0s 2ms/step - loss: 0.1427 - accuracy: 0.9643 - val_loss: 0.2734 - val_accuracy: 0.9100\n",
            "\n",
            "Epoch 00110: val_accuracy did not improve from 0.97333\n",
            "Epoch 111/250\n",
            "88/88 [==============================] - 0s 2ms/step - loss: 0.1596 - accuracy: 0.9557 - val_loss: 0.1844 - val_accuracy: 0.9733\n",
            "\n",
            "Epoch 00111: val_accuracy did not improve from 0.97333\n",
            "Epoch 112/250\n",
            "88/88 [==============================] - 0s 2ms/step - loss: 0.1935 - accuracy: 0.9386 - val_loss: 0.2303 - val_accuracy: 0.9600\n",
            "\n",
            "Epoch 00112: val_accuracy did not improve from 0.97333\n",
            "Epoch 113/250\n",
            "88/88 [==============================] - 0s 3ms/step - loss: 0.1470 - accuracy: 0.9586 - val_loss: 0.1914 - val_accuracy: 0.9667\n",
            "\n",
            "Epoch 00113: val_accuracy did not improve from 0.97333\n",
            "Epoch 114/250\n",
            "88/88 [==============================] - 0s 2ms/step - loss: 0.1438 - accuracy: 0.9586 - val_loss: 0.1828 - val_accuracy: 0.9700\n",
            "\n",
            "Epoch 00114: val_accuracy did not improve from 0.97333\n",
            "Epoch 115/250\n",
            "88/88 [==============================] - 0s 2ms/step - loss: 0.1808 - accuracy: 0.9443 - val_loss: 0.2036 - val_accuracy: 0.9667\n",
            "\n",
            "Epoch 00115: val_accuracy did not improve from 0.97333\n",
            "Epoch 116/250\n",
            "88/88 [==============================] - 0s 2ms/step - loss: 0.1388 - accuracy: 0.9657 - val_loss: 0.1897 - val_accuracy: 0.9700\n",
            "\n",
            "Epoch 00116: val_accuracy did not improve from 0.97333\n",
            "Epoch 117/250\n",
            "88/88 [==============================] - 0s 3ms/step - loss: 0.1465 - accuracy: 0.9571 - val_loss: 0.2307 - val_accuracy: 0.9467\n",
            "\n",
            "Epoch 00117: val_accuracy did not improve from 0.97333\n",
            "Epoch 118/250\n",
            "88/88 [==============================] - 0s 2ms/step - loss: 0.1421 - accuracy: 0.9600 - val_loss: 0.2964 - val_accuracy: 0.9200\n",
            "\n",
            "Epoch 00118: val_accuracy did not improve from 0.97333\n",
            "Epoch 119/250\n",
            "88/88 [==============================] - 0s 2ms/step - loss: 0.1504 - accuracy: 0.9629 - val_loss: 0.2145 - val_accuracy: 0.9500\n",
            "\n",
            "Epoch 00119: val_accuracy did not improve from 0.97333\n",
            "Epoch 120/250\n",
            "88/88 [==============================] - 0s 2ms/step - loss: 0.1690 - accuracy: 0.9471 - val_loss: 0.2117 - val_accuracy: 0.9600\n",
            "\n",
            "Epoch 00120: val_accuracy did not improve from 0.97333\n",
            "Epoch 121/250\n",
            "88/88 [==============================] - 0s 2ms/step - loss: 0.1736 - accuracy: 0.9486 - val_loss: 0.1891 - val_accuracy: 0.9633\n",
            "\n",
            "Epoch 00121: val_accuracy did not improve from 0.97333\n",
            "Epoch 122/250\n",
            "88/88 [==============================] - 0s 2ms/step - loss: 0.1326 - accuracy: 0.9614 - val_loss: 0.2270 - val_accuracy: 0.9600\n",
            "\n",
            "Epoch 00122: val_accuracy did not improve from 0.97333\n",
            "Epoch 123/250\n",
            "88/88 [==============================] - 0s 2ms/step - loss: 0.1533 - accuracy: 0.9486 - val_loss: 0.3840 - val_accuracy: 0.9000\n",
            "\n",
            "Epoch 00123: val_accuracy did not improve from 0.97333\n",
            "Epoch 124/250\n",
            "88/88 [==============================] - 0s 2ms/step - loss: 0.1598 - accuracy: 0.9529 - val_loss: 0.4394 - val_accuracy: 0.8733\n",
            "\n",
            "Epoch 00124: val_accuracy did not improve from 0.97333\n",
            "Epoch 125/250\n",
            "88/88 [==============================] - 0s 2ms/step - loss: 0.1581 - accuracy: 0.9471 - val_loss: 0.2840 - val_accuracy: 0.9167\n",
            "\n",
            "Epoch 00125: val_accuracy did not improve from 0.97333\n",
            "Epoch 126/250\n",
            "88/88 [==============================] - 0s 2ms/step - loss: 0.1817 - accuracy: 0.9400 - val_loss: 0.1994 - val_accuracy: 0.9700\n",
            "\n",
            "Epoch 00126: val_accuracy did not improve from 0.97333\n",
            "Epoch 127/250\n",
            "88/88 [==============================] - 0s 2ms/step - loss: 0.1548 - accuracy: 0.9557 - val_loss: 0.2313 - val_accuracy: 0.9567\n",
            "\n",
            "Epoch 00127: val_accuracy did not improve from 0.97333\n",
            "Epoch 128/250\n",
            "88/88 [==============================] - 0s 2ms/step - loss: 0.1437 - accuracy: 0.9571 - val_loss: 0.2711 - val_accuracy: 0.9200\n",
            "\n",
            "Epoch 00128: val_accuracy did not improve from 0.97333\n",
            "Epoch 129/250\n",
            "88/88 [==============================] - 0s 2ms/step - loss: 0.2085 - accuracy: 0.9329 - val_loss: 0.2147 - val_accuracy: 0.9567\n",
            "\n",
            "Epoch 00129: val_accuracy did not improve from 0.97333\n",
            "Epoch 130/250\n",
            "88/88 [==============================] - 0s 2ms/step - loss: 0.1544 - accuracy: 0.9500 - val_loss: 0.4476 - val_accuracy: 0.8733\n",
            "\n",
            "Epoch 00130: val_accuracy did not improve from 0.97333\n",
            "Epoch 131/250\n",
            "88/88 [==============================] - 0s 2ms/step - loss: 0.1801 - accuracy: 0.9429 - val_loss: 0.1980 - val_accuracy: 0.9667\n",
            "\n",
            "Epoch 00131: val_accuracy did not improve from 0.97333\n",
            "Epoch 132/250\n",
            "88/88 [==============================] - 0s 2ms/step - loss: 0.1419 - accuracy: 0.9600 - val_loss: 0.2022 - val_accuracy: 0.9633\n",
            "\n",
            "Epoch 00132: val_accuracy did not improve from 0.97333\n",
            "Epoch 133/250\n",
            "88/88 [==============================] - 0s 2ms/step - loss: 0.1615 - accuracy: 0.9586 - val_loss: 0.1862 - val_accuracy: 0.9733\n",
            "\n",
            "Epoch 00133: val_accuracy did not improve from 0.97333\n",
            "Epoch 134/250\n",
            "88/88 [==============================] - 0s 2ms/step - loss: 0.1789 - accuracy: 0.9443 - val_loss: 0.4743 - val_accuracy: 0.8667\n",
            "\n",
            "Epoch 00134: val_accuracy did not improve from 0.97333\n",
            "Epoch 135/250\n",
            "88/88 [==============================] - 0s 2ms/step - loss: 0.1854 - accuracy: 0.9371 - val_loss: 0.2035 - val_accuracy: 0.9633\n",
            "\n",
            "Epoch 00135: val_accuracy did not improve from 0.97333\n",
            "Epoch 136/250\n",
            "88/88 [==============================] - 0s 2ms/step - loss: 0.1445 - accuracy: 0.9614 - val_loss: 0.2239 - val_accuracy: 0.9367\n",
            "\n",
            "Epoch 00136: val_accuracy did not improve from 0.97333\n",
            "Epoch 137/250\n",
            "88/88 [==============================] - 0s 2ms/step - loss: 0.1435 - accuracy: 0.9643 - val_loss: 0.2273 - val_accuracy: 0.9633\n",
            "\n",
            "Epoch 00137: val_accuracy did not improve from 0.97333\n",
            "Epoch 138/250\n",
            "88/88 [==============================] - 0s 2ms/step - loss: 0.1628 - accuracy: 0.9500 - val_loss: 0.2466 - val_accuracy: 0.9567\n",
            "\n",
            "Epoch 00138: val_accuracy did not improve from 0.97333\n",
            "Epoch 139/250\n",
            "88/88 [==============================] - 0s 3ms/step - loss: 0.1885 - accuracy: 0.9286 - val_loss: 0.2159 - val_accuracy: 0.9600\n",
            "\n",
            "Epoch 00139: val_accuracy did not improve from 0.97333\n",
            "Epoch 140/250\n",
            "88/88 [==============================] - 0s 2ms/step - loss: 0.1879 - accuracy: 0.9471 - val_loss: 0.2016 - val_accuracy: 0.9700\n",
            "\n",
            "Epoch 00140: val_accuracy did not improve from 0.97333\n",
            "Epoch 141/250\n",
            "88/88 [==============================] - 0s 2ms/step - loss: 0.1460 - accuracy: 0.9629 - val_loss: 0.2036 - val_accuracy: 0.9633\n",
            "\n",
            "Epoch 00141: val_accuracy did not improve from 0.97333\n",
            "Epoch 142/250\n",
            "88/88 [==============================] - 0s 2ms/step - loss: 0.1415 - accuracy: 0.9657 - val_loss: 0.1919 - val_accuracy: 0.9633\n",
            "\n",
            "Epoch 00142: val_accuracy did not improve from 0.97333\n",
            "Epoch 143/250\n",
            "88/88 [==============================] - 0s 2ms/step - loss: 0.1524 - accuracy: 0.9600 - val_loss: 0.1993 - val_accuracy: 0.9633\n",
            "\n",
            "Epoch 00143: val_accuracy did not improve from 0.97333\n",
            "Epoch 144/250\n",
            "88/88 [==============================] - 0s 2ms/step - loss: 0.1447 - accuracy: 0.9586 - val_loss: 0.1908 - val_accuracy: 0.9667\n",
            "\n",
            "Epoch 00144: val_accuracy did not improve from 0.97333\n",
            "Epoch 145/250\n",
            "88/88 [==============================] - 0s 3ms/step - loss: 0.1645 - accuracy: 0.9457 - val_loss: 0.1932 - val_accuracy: 0.9700\n",
            "\n",
            "Epoch 00145: val_accuracy did not improve from 0.97333\n",
            "Epoch 146/250\n",
            "88/88 [==============================] - 0s 2ms/step - loss: 0.1390 - accuracy: 0.9629 - val_loss: 0.1851 - val_accuracy: 0.9733\n",
            "\n",
            "Epoch 00146: val_accuracy did not improve from 0.97333\n",
            "Epoch 147/250\n",
            "88/88 [==============================] - 0s 2ms/step - loss: 0.1512 - accuracy: 0.9571 - val_loss: 0.1862 - val_accuracy: 0.9700\n",
            "\n",
            "Epoch 00147: val_accuracy did not improve from 0.97333\n",
            "Epoch 148/250\n",
            "88/88 [==============================] - 0s 3ms/step - loss: 0.1580 - accuracy: 0.9614 - val_loss: 0.1903 - val_accuracy: 0.9667\n",
            "\n",
            "Epoch 00148: val_accuracy did not improve from 0.97333\n",
            "Epoch 149/250\n",
            "88/88 [==============================] - 0s 2ms/step - loss: 0.2447 - accuracy: 0.9186 - val_loss: 0.2761 - val_accuracy: 0.9267\n",
            "\n",
            "Epoch 00149: val_accuracy did not improve from 0.97333\n",
            "Epoch 150/250\n",
            "88/88 [==============================] - 0s 3ms/step - loss: 0.1725 - accuracy: 0.9357 - val_loss: 0.2441 - val_accuracy: 0.9533\n",
            "\n",
            "Epoch 00150: val_accuracy did not improve from 0.97333\n",
            "Epoch 151/250\n",
            "88/88 [==============================] - 0s 2ms/step - loss: 0.1538 - accuracy: 0.9557 - val_loss: 0.2980 - val_accuracy: 0.9167\n",
            "\n",
            "Epoch 00151: val_accuracy did not improve from 0.97333\n",
            "Epoch 152/250\n",
            "88/88 [==============================] - 0s 2ms/step - loss: 0.1785 - accuracy: 0.9457 - val_loss: 0.1939 - val_accuracy: 0.9633\n",
            "\n",
            "Epoch 00152: val_accuracy did not improve from 0.97333\n",
            "Epoch 153/250\n",
            "88/88 [==============================] - 0s 2ms/step - loss: 0.1401 - accuracy: 0.9557 - val_loss: 0.2245 - val_accuracy: 0.9500\n",
            "\n",
            "Epoch 00153: val_accuracy did not improve from 0.97333\n",
            "Epoch 154/250\n",
            "88/88 [==============================] - 0s 2ms/step - loss: 0.1612 - accuracy: 0.9471 - val_loss: 0.1861 - val_accuracy: 0.9733\n",
            "\n",
            "Epoch 00154: val_accuracy did not improve from 0.97333\n",
            "Epoch 155/250\n",
            "88/88 [==============================] - 0s 2ms/step - loss: 0.1424 - accuracy: 0.9614 - val_loss: 0.2366 - val_accuracy: 0.9467\n",
            "\n",
            "Epoch 00155: val_accuracy did not improve from 0.97333\n",
            "Epoch 156/250\n",
            "88/88 [==============================] - 0s 2ms/step - loss: 0.1629 - accuracy: 0.9543 - val_loss: 0.2143 - val_accuracy: 0.9667\n",
            "\n",
            "Epoch 00156: val_accuracy did not improve from 0.97333\n",
            "Epoch 157/250\n",
            "88/88 [==============================] - 0s 2ms/step - loss: 0.1572 - accuracy: 0.9529 - val_loss: 0.1907 - val_accuracy: 0.9700\n",
            "\n",
            "Epoch 00157: val_accuracy did not improve from 0.97333\n",
            "Epoch 158/250\n",
            "88/88 [==============================] - 0s 3ms/step - loss: 0.1385 - accuracy: 0.9571 - val_loss: 0.3363 - val_accuracy: 0.8767\n",
            "\n",
            "Epoch 00158: val_accuracy did not improve from 0.97333\n",
            "Epoch 159/250\n",
            "88/88 [==============================] - 0s 2ms/step - loss: 0.1236 - accuracy: 0.9586 - val_loss: 0.1998 - val_accuracy: 0.9633\n",
            "\n",
            "Epoch 00159: val_accuracy did not improve from 0.97333\n",
            "Epoch 160/250\n",
            "88/88 [==============================] - 0s 2ms/step - loss: 0.1581 - accuracy: 0.9500 - val_loss: 0.2564 - val_accuracy: 0.9300\n",
            "\n",
            "Epoch 00160: val_accuracy did not improve from 0.97333\n",
            "Epoch 161/250\n",
            "88/88 [==============================] - 0s 3ms/step - loss: 0.1627 - accuracy: 0.9514 - val_loss: 0.1860 - val_accuracy: 0.9700\n",
            "\n",
            "Epoch 00161: val_accuracy did not improve from 0.97333\n",
            "Epoch 162/250\n",
            "88/88 [==============================] - 0s 2ms/step - loss: 0.1286 - accuracy: 0.9643 - val_loss: 0.1967 - val_accuracy: 0.9633\n",
            "\n",
            "Epoch 00162: val_accuracy did not improve from 0.97333\n",
            "Epoch 163/250\n",
            "88/88 [==============================] - 0s 2ms/step - loss: 0.1400 - accuracy: 0.9614 - val_loss: 0.2110 - val_accuracy: 0.9600\n",
            "\n",
            "Epoch 00163: val_accuracy did not improve from 0.97333\n",
            "Epoch 164/250\n",
            "88/88 [==============================] - 0s 2ms/step - loss: 0.1595 - accuracy: 0.9514 - val_loss: 0.2117 - val_accuracy: 0.9600\n",
            "\n",
            "Epoch 00164: val_accuracy did not improve from 0.97333\n",
            "Epoch 165/250\n",
            "88/88 [==============================] - 0s 3ms/step - loss: 0.2034 - accuracy: 0.9343 - val_loss: 0.2351 - val_accuracy: 0.9333\n",
            "\n",
            "Epoch 00165: val_accuracy did not improve from 0.97333\n",
            "Epoch 166/250\n",
            "88/88 [==============================] - 0s 2ms/step - loss: 0.1386 - accuracy: 0.9614 - val_loss: 0.1959 - val_accuracy: 0.9700\n",
            "\n",
            "Epoch 00166: val_accuracy did not improve from 0.97333\n",
            "Epoch 167/250\n",
            "88/88 [==============================] - 0s 2ms/step - loss: 0.1764 - accuracy: 0.9486 - val_loss: 0.2430 - val_accuracy: 0.9533\n",
            "\n",
            "Epoch 00167: val_accuracy did not improve from 0.97333\n",
            "Epoch 168/250\n",
            "88/88 [==============================] - 0s 3ms/step - loss: 0.1422 - accuracy: 0.9557 - val_loss: 0.3699 - val_accuracy: 0.8933\n",
            "\n",
            "Epoch 00168: val_accuracy did not improve from 0.97333\n",
            "Epoch 169/250\n",
            "88/88 [==============================] - 0s 2ms/step - loss: 0.1688 - accuracy: 0.9414 - val_loss: 0.2077 - val_accuracy: 0.9600\n",
            "\n",
            "Epoch 00169: val_accuracy did not improve from 0.97333\n",
            "Epoch 170/250\n",
            "88/88 [==============================] - 0s 3ms/step - loss: 0.1520 - accuracy: 0.9529 - val_loss: 0.1872 - val_accuracy: 0.9700\n",
            "\n",
            "Epoch 00170: val_accuracy did not improve from 0.97333\n",
            "Epoch 171/250\n",
            "88/88 [==============================] - 0s 3ms/step - loss: 0.1326 - accuracy: 0.9629 - val_loss: 0.3010 - val_accuracy: 0.9267\n",
            "\n",
            "Epoch 00171: val_accuracy did not improve from 0.97333\n",
            "Epoch 172/250\n",
            "88/88 [==============================] - 0s 3ms/step - loss: 0.1653 - accuracy: 0.9457 - val_loss: 0.1961 - val_accuracy: 0.9633\n",
            "\n",
            "Epoch 00172: val_accuracy did not improve from 0.97333\n",
            "Epoch 173/250\n",
            "88/88 [==============================] - 0s 2ms/step - loss: 0.1464 - accuracy: 0.9586 - val_loss: 0.1997 - val_accuracy: 0.9633\n",
            "\n",
            "Epoch 00173: val_accuracy did not improve from 0.97333\n",
            "Epoch 174/250\n",
            "88/88 [==============================] - 0s 2ms/step - loss: 0.1380 - accuracy: 0.9614 - val_loss: 0.3871 - val_accuracy: 0.8633\n",
            "\n",
            "Epoch 00174: val_accuracy did not improve from 0.97333\n",
            "Epoch 175/250\n",
            "88/88 [==============================] - 0s 2ms/step - loss: 0.1563 - accuracy: 0.9557 - val_loss: 0.1905 - val_accuracy: 0.9733\n",
            "\n",
            "Epoch 00175: val_accuracy did not improve from 0.97333\n",
            "Epoch 176/250\n",
            "88/88 [==============================] - 0s 2ms/step - loss: 0.1311 - accuracy: 0.9657 - val_loss: 0.1906 - val_accuracy: 0.9667\n",
            "\n",
            "Epoch 00176: val_accuracy did not improve from 0.97333\n",
            "Epoch 177/250\n",
            "88/88 [==============================] - 0s 3ms/step - loss: 0.1329 - accuracy: 0.9629 - val_loss: 0.1976 - val_accuracy: 0.9600\n",
            "\n",
            "Epoch 00177: val_accuracy did not improve from 0.97333\n",
            "Epoch 178/250\n",
            "88/88 [==============================] - 0s 2ms/step - loss: 0.1348 - accuracy: 0.9600 - val_loss: 0.2452 - val_accuracy: 0.9467\n",
            "\n",
            "Epoch 00178: val_accuracy did not improve from 0.97333\n",
            "Epoch 179/250\n",
            "88/88 [==============================] - 0s 2ms/step - loss: 0.1604 - accuracy: 0.9500 - val_loss: 0.3707 - val_accuracy: 0.9000\n",
            "\n",
            "Epoch 00179: val_accuracy did not improve from 0.97333\n",
            "Epoch 180/250\n",
            "88/88 [==============================] - 0s 2ms/step - loss: 0.1712 - accuracy: 0.9429 - val_loss: 0.2481 - val_accuracy: 0.9500\n",
            "\n",
            "Epoch 00180: val_accuracy did not improve from 0.97333\n",
            "Epoch 181/250\n",
            "88/88 [==============================] - 0s 2ms/step - loss: 0.1425 - accuracy: 0.9543 - val_loss: 0.1968 - val_accuracy: 0.9667\n",
            "\n",
            "Epoch 00181: val_accuracy did not improve from 0.97333\n",
            "Epoch 182/250\n",
            "88/88 [==============================] - 0s 2ms/step - loss: 0.1495 - accuracy: 0.9500 - val_loss: 0.3004 - val_accuracy: 0.9367\n",
            "\n",
            "Epoch 00182: val_accuracy did not improve from 0.97333\n",
            "Epoch 183/250\n",
            "88/88 [==============================] - 0s 3ms/step - loss: 0.1360 - accuracy: 0.9657 - val_loss: 0.1922 - val_accuracy: 0.9733\n",
            "\n",
            "Epoch 00183: val_accuracy did not improve from 0.97333\n",
            "Epoch 184/250\n",
            "88/88 [==============================] - 0s 3ms/step - loss: 0.1402 - accuracy: 0.9614 - val_loss: 0.2038 - val_accuracy: 0.9600\n",
            "\n",
            "Epoch 00184: val_accuracy did not improve from 0.97333\n",
            "Epoch 185/250\n",
            "88/88 [==============================] - 0s 2ms/step - loss: 0.1355 - accuracy: 0.9543 - val_loss: 0.2330 - val_accuracy: 0.9533\n",
            "\n",
            "Epoch 00185: val_accuracy did not improve from 0.97333\n",
            "Epoch 186/250\n",
            "88/88 [==============================] - 0s 3ms/step - loss: 0.2238 - accuracy: 0.9186 - val_loss: 0.2524 - val_accuracy: 0.9433\n",
            "\n",
            "Epoch 00186: val_accuracy did not improve from 0.97333\n",
            "Epoch 187/250\n",
            "88/88 [==============================] - 0s 2ms/step - loss: 0.1461 - accuracy: 0.9586 - val_loss: 0.2203 - val_accuracy: 0.9567\n",
            "\n",
            "Epoch 00187: val_accuracy did not improve from 0.97333\n",
            "Epoch 188/250\n",
            "88/88 [==============================] - 0s 3ms/step - loss: 0.1346 - accuracy: 0.9686 - val_loss: 0.2046 - val_accuracy: 0.9733\n",
            "\n",
            "Epoch 00188: val_accuracy did not improve from 0.97333\n",
            "Epoch 189/250\n",
            "88/88 [==============================] - 0s 2ms/step - loss: 0.1290 - accuracy: 0.9629 - val_loss: 0.2057 - val_accuracy: 0.9633\n",
            "\n",
            "Epoch 00189: val_accuracy did not improve from 0.97333\n",
            "Epoch 190/250\n",
            "88/88 [==============================] - 0s 3ms/step - loss: 0.1447 - accuracy: 0.9557 - val_loss: 0.2022 - val_accuracy: 0.9600\n",
            "\n",
            "Epoch 00190: val_accuracy did not improve from 0.97333\n",
            "Epoch 191/250\n",
            "88/88 [==============================] - 0s 2ms/step - loss: 0.1322 - accuracy: 0.9600 - val_loss: 0.1928 - val_accuracy: 0.9667\n",
            "\n",
            "Epoch 00191: val_accuracy did not improve from 0.97333\n",
            "Epoch 192/250\n",
            "88/88 [==============================] - 0s 3ms/step - loss: 0.1315 - accuracy: 0.9614 - val_loss: 0.2488 - val_accuracy: 0.9367\n",
            "\n",
            "Epoch 00192: val_accuracy did not improve from 0.97333\n",
            "Epoch 193/250\n",
            "88/88 [==============================] - 0s 3ms/step - loss: 0.2265 - accuracy: 0.9243 - val_loss: 0.1992 - val_accuracy: 0.9733\n",
            "\n",
            "Epoch 00193: val_accuracy did not improve from 0.97333\n",
            "Epoch 194/250\n",
            "88/88 [==============================] - 0s 2ms/step - loss: 0.1311 - accuracy: 0.9671 - val_loss: 0.2187 - val_accuracy: 0.9633\n",
            "\n",
            "Epoch 00194: val_accuracy did not improve from 0.97333\n",
            "Epoch 195/250\n",
            "88/88 [==============================] - 0s 3ms/step - loss: 0.2237 - accuracy: 0.9371 - val_loss: 0.3412 - val_accuracy: 0.8600\n",
            "\n",
            "Epoch 00195: val_accuracy did not improve from 0.97333\n",
            "Epoch 196/250\n",
            "88/88 [==============================] - 0s 2ms/step - loss: 0.1519 - accuracy: 0.9514 - val_loss: 0.2510 - val_accuracy: 0.9467\n",
            "\n",
            "Epoch 00196: val_accuracy did not improve from 0.97333\n",
            "Epoch 197/250\n",
            "88/88 [==============================] - 0s 2ms/step - loss: 0.1438 - accuracy: 0.9586 - val_loss: 0.2071 - val_accuracy: 0.9600\n",
            "\n",
            "Epoch 00197: val_accuracy did not improve from 0.97333\n",
            "Epoch 198/250\n",
            "88/88 [==============================] - 0s 2ms/step - loss: 0.1277 - accuracy: 0.9586 - val_loss: 0.3056 - val_accuracy: 0.9133\n",
            "\n",
            "Epoch 00198: val_accuracy did not improve from 0.97333\n",
            "Epoch 199/250\n",
            "88/88 [==============================] - 0s 2ms/step - loss: 0.1282 - accuracy: 0.9600 - val_loss: 0.4307 - val_accuracy: 0.8667\n",
            "\n",
            "Epoch 00199: val_accuracy did not improve from 0.97333\n",
            "Epoch 200/250\n",
            "88/88 [==============================] - 0s 3ms/step - loss: 0.2293 - accuracy: 0.9214 - val_loss: 0.1989 - val_accuracy: 0.9667\n",
            "\n",
            "Epoch 00200: val_accuracy did not improve from 0.97333\n",
            "Epoch 201/250\n",
            "88/88 [==============================] - 0s 3ms/step - loss: 0.1239 - accuracy: 0.9671 - val_loss: 0.1902 - val_accuracy: 0.9733\n",
            "\n",
            "Epoch 00201: val_accuracy did not improve from 0.97333\n",
            "Epoch 202/250\n",
            "88/88 [==============================] - 0s 3ms/step - loss: 0.1372 - accuracy: 0.9671 - val_loss: 0.2387 - val_accuracy: 0.9633\n",
            "\n",
            "Epoch 00202: val_accuracy did not improve from 0.97333\n",
            "Epoch 203/250\n",
            "88/88 [==============================] - 0s 2ms/step - loss: 0.1606 - accuracy: 0.9571 - val_loss: 0.1930 - val_accuracy: 0.9733\n",
            "\n",
            "Epoch 00203: val_accuracy did not improve from 0.97333\n",
            "Epoch 204/250\n",
            "88/88 [==============================] - 0s 3ms/step - loss: 0.1312 - accuracy: 0.9714 - val_loss: 0.2170 - val_accuracy: 0.9600\n",
            "\n",
            "Epoch 00204: val_accuracy did not improve from 0.97333\n",
            "Epoch 205/250\n",
            "88/88 [==============================] - 0s 2ms/step - loss: 0.1695 - accuracy: 0.9557 - val_loss: 0.2005 - val_accuracy: 0.9733\n",
            "\n",
            "Epoch 00205: val_accuracy did not improve from 0.97333\n",
            "Epoch 206/250\n",
            "88/88 [==============================] - 0s 2ms/step - loss: 0.2164 - accuracy: 0.9271 - val_loss: 0.2284 - val_accuracy: 0.9533\n",
            "\n",
            "Epoch 00206: val_accuracy did not improve from 0.97333\n",
            "Epoch 207/250\n",
            "88/88 [==============================] - 0s 2ms/step - loss: 0.1334 - accuracy: 0.9629 - val_loss: 0.2018 - val_accuracy: 0.9667\n",
            "\n",
            "Epoch 00207: val_accuracy did not improve from 0.97333\n",
            "Epoch 208/250\n",
            "88/88 [==============================] - 0s 3ms/step - loss: 0.1418 - accuracy: 0.9600 - val_loss: 0.2460 - val_accuracy: 0.9533\n",
            "\n",
            "Epoch 00208: val_accuracy did not improve from 0.97333\n",
            "Epoch 209/250\n",
            "88/88 [==============================] - 0s 2ms/step - loss: 0.1193 - accuracy: 0.9671 - val_loss: 0.1908 - val_accuracy: 0.9700\n",
            "\n",
            "Epoch 00209: val_accuracy did not improve from 0.97333\n",
            "Epoch 210/250\n",
            "88/88 [==============================] - 0s 2ms/step - loss: 0.1957 - accuracy: 0.9329 - val_loss: 0.1883 - val_accuracy: 0.9733\n",
            "\n",
            "Epoch 00210: val_accuracy did not improve from 0.97333\n",
            "Epoch 211/250\n",
            "88/88 [==============================] - 0s 3ms/step - loss: 0.1484 - accuracy: 0.9643 - val_loss: 0.2481 - val_accuracy: 0.9400\n",
            "\n",
            "Epoch 00211: val_accuracy did not improve from 0.97333\n",
            "Epoch 212/250\n",
            "88/88 [==============================] - 0s 3ms/step - loss: 0.1197 - accuracy: 0.9657 - val_loss: 0.2835 - val_accuracy: 0.9400\n",
            "\n",
            "Epoch 00212: val_accuracy did not improve from 0.97333\n",
            "Epoch 213/250\n",
            "88/88 [==============================] - 0s 3ms/step - loss: 0.1495 - accuracy: 0.9543 - val_loss: 0.1905 - val_accuracy: 0.9733\n",
            "\n",
            "Epoch 00213: val_accuracy did not improve from 0.97333\n",
            "Epoch 214/250\n",
            "88/88 [==============================] - 0s 2ms/step - loss: 0.1225 - accuracy: 0.9614 - val_loss: 0.3506 - val_accuracy: 0.8633\n",
            "\n",
            "Epoch 00214: val_accuracy did not improve from 0.97333\n",
            "Epoch 215/250\n",
            "88/88 [==============================] - 0s 2ms/step - loss: 0.1380 - accuracy: 0.9543 - val_loss: 0.2080 - val_accuracy: 0.9600\n",
            "\n",
            "Epoch 00215: val_accuracy did not improve from 0.97333\n",
            "Epoch 216/250\n",
            "88/88 [==============================] - 0s 3ms/step - loss: 0.1773 - accuracy: 0.9357 - val_loss: 0.2020 - val_accuracy: 0.9700\n",
            "\n",
            "Epoch 00216: val_accuracy did not improve from 0.97333\n",
            "Epoch 217/250\n",
            "88/88 [==============================] - 0s 2ms/step - loss: 0.1273 - accuracy: 0.9629 - val_loss: 0.4747 - val_accuracy: 0.8833\n",
            "\n",
            "Epoch 00217: val_accuracy did not improve from 0.97333\n",
            "Epoch 218/250\n",
            "88/88 [==============================] - 0s 3ms/step - loss: 0.1399 - accuracy: 0.9657 - val_loss: 0.1923 - val_accuracy: 0.9700\n",
            "\n",
            "Epoch 00218: val_accuracy did not improve from 0.97333\n",
            "Epoch 219/250\n",
            "88/88 [==============================] - 0s 2ms/step - loss: 0.1231 - accuracy: 0.9686 - val_loss: 0.2120 - val_accuracy: 0.9667\n",
            "\n",
            "Epoch 00219: val_accuracy did not improve from 0.97333\n",
            "Epoch 220/250\n",
            "88/88 [==============================] - 0s 3ms/step - loss: 0.1361 - accuracy: 0.9629 - val_loss: 0.2355 - val_accuracy: 0.9533\n",
            "\n",
            "Epoch 00220: val_accuracy did not improve from 0.97333\n",
            "Epoch 221/250\n",
            "88/88 [==============================] - 0s 2ms/step - loss: 0.1434 - accuracy: 0.9614 - val_loss: 0.1978 - val_accuracy: 0.9667\n",
            "\n",
            "Epoch 00221: val_accuracy did not improve from 0.97333\n",
            "Epoch 222/250\n",
            "88/88 [==============================] - 0s 3ms/step - loss: 0.1696 - accuracy: 0.9471 - val_loss: 0.2207 - val_accuracy: 0.9633\n",
            "\n",
            "Epoch 00222: val_accuracy did not improve from 0.97333\n",
            "Epoch 223/250\n",
            "88/88 [==============================] - 0s 2ms/step - loss: 0.1483 - accuracy: 0.9543 - val_loss: 0.2277 - val_accuracy: 0.9500\n",
            "\n",
            "Epoch 00223: val_accuracy did not improve from 0.97333\n",
            "Epoch 224/250\n",
            "88/88 [==============================] - 0s 2ms/step - loss: 0.1434 - accuracy: 0.9614 - val_loss: 0.1909 - val_accuracy: 0.9733\n",
            "\n",
            "Epoch 00224: val_accuracy did not improve from 0.97333\n",
            "Epoch 225/250\n",
            "88/88 [==============================] - 0s 2ms/step - loss: 0.1297 - accuracy: 0.9671 - val_loss: 0.2161 - val_accuracy: 0.9633\n",
            "\n",
            "Epoch 00225: val_accuracy did not improve from 0.97333\n",
            "Epoch 226/250\n",
            "88/88 [==============================] - 0s 2ms/step - loss: 0.2025 - accuracy: 0.9229 - val_loss: 0.1931 - val_accuracy: 0.9733\n",
            "\n",
            "Epoch 00226: val_accuracy did not improve from 0.97333\n",
            "Epoch 227/250\n",
            "88/88 [==============================] - 0s 2ms/step - loss: 0.1353 - accuracy: 0.9586 - val_loss: 0.3333 - val_accuracy: 0.8733\n",
            "\n",
            "Epoch 00227: val_accuracy did not improve from 0.97333\n",
            "Epoch 228/250\n",
            "88/88 [==============================] - 0s 2ms/step - loss: 0.1456 - accuracy: 0.9543 - val_loss: 0.1984 - val_accuracy: 0.9633\n",
            "\n",
            "Epoch 00228: val_accuracy did not improve from 0.97333\n",
            "Epoch 229/250\n",
            "88/88 [==============================] - 0s 2ms/step - loss: 0.1645 - accuracy: 0.9514 - val_loss: 0.1941 - val_accuracy: 0.9700\n",
            "\n",
            "Epoch 00229: val_accuracy did not improve from 0.97333\n",
            "Epoch 230/250\n",
            "88/88 [==============================] - 0s 3ms/step - loss: 0.1146 - accuracy: 0.9729 - val_loss: 0.2393 - val_accuracy: 0.9500\n",
            "\n",
            "Epoch 00230: val_accuracy did not improve from 0.97333\n",
            "Epoch 231/250\n",
            "88/88 [==============================] - 0s 3ms/step - loss: 0.1399 - accuracy: 0.9543 - val_loss: 0.1925 - val_accuracy: 0.9700\n",
            "\n",
            "Epoch 00231: val_accuracy did not improve from 0.97333\n",
            "Epoch 232/250\n",
            "88/88 [==============================] - 0s 3ms/step - loss: 0.1568 - accuracy: 0.9571 - val_loss: 0.1909 - val_accuracy: 0.9733\n",
            "\n",
            "Epoch 00232: val_accuracy did not improve from 0.97333\n",
            "Epoch 233/250\n",
            "88/88 [==============================] - 0s 3ms/step - loss: 0.1642 - accuracy: 0.9457 - val_loss: 0.1877 - val_accuracy: 0.9733\n",
            "\n",
            "Epoch 00233: val_accuracy did not improve from 0.97333\n",
            "Epoch 234/250\n",
            "88/88 [==============================] - 0s 3ms/step - loss: 0.1663 - accuracy: 0.9514 - val_loss: 0.2913 - val_accuracy: 0.9033\n",
            "\n",
            "Epoch 00234: val_accuracy did not improve from 0.97333\n",
            "Epoch 235/250\n",
            "88/88 [==============================] - 0s 3ms/step - loss: 0.1461 - accuracy: 0.9586 - val_loss: 0.2100 - val_accuracy: 0.9600\n",
            "\n",
            "Epoch 00235: val_accuracy did not improve from 0.97333\n",
            "Epoch 236/250\n",
            "88/88 [==============================] - 0s 3ms/step - loss: 0.1305 - accuracy: 0.9614 - val_loss: 0.2320 - val_accuracy: 0.9533\n",
            "\n",
            "Epoch 00236: val_accuracy did not improve from 0.97333\n",
            "Epoch 237/250\n",
            "88/88 [==============================] - 0s 2ms/step - loss: 0.1227 - accuracy: 0.9700 - val_loss: 0.2618 - val_accuracy: 0.9500\n",
            "\n",
            "Epoch 00237: val_accuracy did not improve from 0.97333\n",
            "Epoch 238/250\n",
            "88/88 [==============================] - 0s 2ms/step - loss: 0.1315 - accuracy: 0.9643 - val_loss: 0.2107 - val_accuracy: 0.9633\n",
            "\n",
            "Epoch 00238: val_accuracy did not improve from 0.97333\n",
            "Epoch 239/250\n",
            "88/88 [==============================] - 0s 3ms/step - loss: 0.1615 - accuracy: 0.9500 - val_loss: 0.2144 - val_accuracy: 0.9600\n",
            "\n",
            "Epoch 00239: val_accuracy did not improve from 0.97333\n",
            "Epoch 240/250\n",
            "88/88 [==============================] - 0s 3ms/step - loss: 0.1862 - accuracy: 0.9414 - val_loss: 0.2313 - val_accuracy: 0.9500\n",
            "\n",
            "Epoch 00240: val_accuracy did not improve from 0.97333\n",
            "Epoch 241/250\n",
            "88/88 [==============================] - 0s 3ms/step - loss: 0.1383 - accuracy: 0.9586 - val_loss: 0.1915 - val_accuracy: 0.9700\n",
            "\n",
            "Epoch 00241: val_accuracy did not improve from 0.97333\n",
            "Epoch 242/250\n",
            "88/88 [==============================] - 0s 2ms/step - loss: 0.1180 - accuracy: 0.9643 - val_loss: 0.1954 - val_accuracy: 0.9667\n",
            "\n",
            "Epoch 00242: val_accuracy did not improve from 0.97333\n",
            "Epoch 243/250\n",
            "88/88 [==============================] - 0s 3ms/step - loss: 0.1322 - accuracy: 0.9629 - val_loss: 0.1894 - val_accuracy: 0.9667\n",
            "\n",
            "Epoch 00243: val_accuracy did not improve from 0.97333\n",
            "Epoch 244/250\n",
            "88/88 [==============================] - 0s 3ms/step - loss: 0.1181 - accuracy: 0.9686 - val_loss: 0.1911 - val_accuracy: 0.9700\n",
            "\n",
            "Epoch 00244: val_accuracy did not improve from 0.97333\n",
            "Epoch 245/250\n",
            "88/88 [==============================] - 0s 3ms/step - loss: 0.1737 - accuracy: 0.9443 - val_loss: 0.3216 - val_accuracy: 0.8967\n",
            "\n",
            "Epoch 00245: val_accuracy did not improve from 0.97333\n",
            "Epoch 246/250\n",
            "88/88 [==============================] - 0s 3ms/step - loss: 0.1518 - accuracy: 0.9486 - val_loss: 0.2376 - val_accuracy: 0.9600\n",
            "\n",
            "Epoch 00246: val_accuracy did not improve from 0.97333\n",
            "Epoch 247/250\n",
            "88/88 [==============================] - 0s 3ms/step - loss: 0.1453 - accuracy: 0.9586 - val_loss: 0.2904 - val_accuracy: 0.9267\n",
            "\n",
            "Epoch 00247: val_accuracy did not improve from 0.97333\n",
            "Epoch 248/250\n",
            "88/88 [==============================] - 0s 3ms/step - loss: 0.1579 - accuracy: 0.9543 - val_loss: 0.2000 - val_accuracy: 0.9700\n",
            "\n",
            "Epoch 00248: val_accuracy did not improve from 0.97333\n",
            "Epoch 249/250\n",
            "88/88 [==============================] - 0s 3ms/step - loss: 0.1206 - accuracy: 0.9629 - val_loss: 0.1942 - val_accuracy: 0.9667\n",
            "\n",
            "Epoch 00249: val_accuracy did not improve from 0.97333\n",
            "Epoch 250/250\n",
            "88/88 [==============================] - 0s 3ms/step - loss: 0.1208 - accuracy: 0.9671 - val_loss: 0.3141 - val_accuracy: 0.9300\n",
            "\n",
            "Epoch 00250: val_accuracy did not improve from 0.97333\n"
          ],
          "name": "stdout"
        },
        {
          "output_type": "execute_result",
          "data": {
            "text/plain": [
              "<tensorflow.python.keras.callbacks.History at 0x7fd93675b5d0>"
            ]
          },
          "metadata": {
            "tags": []
          },
          "execution_count": 34
        }
      ]
    },
    {
      "cell_type": "code",
      "metadata": {
        "id": "u3kgNQyImCg6"
      },
      "source": [
        "my_ann_model = load_model('./sloan_ann/model-00075-0.20-0.9400-0.18-0.9733.h5')\n",
        "prediction_classes = np.array([])\n",
        "true_classes = np.array([])\n",
        "prediction_classes = np.concatenate([prediction_classes,np.argmax(my_ann_model.predict(X_test), axis = -1)])\n",
        "true_classes = np.concatenate([true_classes, np.argmax(y_test.numpy(), axis=-1)])"
      ],
      "execution_count": 35,
      "outputs": []
    },
    {
      "cell_type": "markdown",
      "metadata": {
        "id": "87PMiPZHMAEl"
      },
      "source": [
        "##### evaluating model"
      ]
    },
    {
      "cell_type": "code",
      "metadata": {
        "id": "djEDdb1vnEQK"
      },
      "source": [
        "from sklearn.metrics import classification_report, confusion_matrix"
      ],
      "execution_count": 36,
      "outputs": []
    },
    {
      "cell_type": "code",
      "metadata": {
        "colab": {
          "base_uri": "https://localhost:8080/"
        },
        "id": "WqJCZcjxm9o9",
        "outputId": "19517b1a-c7c5-44c4-a782-4d1ba152f369"
      },
      "source": [
        "print(classification_report(prediction_classes, true_classes))"
      ],
      "execution_count": 38,
      "outputs": [
        {
          "output_type": "stream",
          "text": [
            "              precision    recall  f1-score   support\n",
            "\n",
            "         0.0       0.99      0.96      0.97       138\n",
            "         1.0       0.82      1.00      0.90        14\n",
            "         2.0       0.98      0.98      0.98       148\n",
            "\n",
            "    accuracy                           0.97       300\n",
            "   macro avg       0.93      0.98      0.95       300\n",
            "weighted avg       0.97      0.97      0.97       300\n",
            "\n"
          ],
          "name": "stdout"
        }
      ]
    },
    {
      "cell_type": "code",
      "metadata": {
        "colab": {
          "base_uri": "https://localhost:8080/"
        },
        "id": "S9s2mejCgvRG",
        "outputId": "00f63a61-d123-4d49-d4eb-e93acb873df2"
      },
      "source": [
        "my_ann_model.evaluate(X_test, y_test)"
      ],
      "execution_count": 39,
      "outputs": [
        {
          "output_type": "stream",
          "text": [
            "10/10 [==============================] - 0s 2ms/step - loss: 0.1795 - accuracy: 0.9733\n"
          ],
          "name": "stdout"
        },
        {
          "output_type": "execute_result",
          "data": {
            "text/plain": [
              "[0.17949095368385315, 0.9733333587646484]"
            ]
          },
          "metadata": {
            "tags": []
          },
          "execution_count": 39
        }
      ]
    },
    {
      "cell_type": "markdown",
      "metadata": {
        "id": "Ke8_9jwe7ntZ"
      },
      "source": [
        "##### Checking for pycaret classification"
      ]
    },
    {
      "cell_type": "code",
      "metadata": {
        "colab": {
          "base_uri": "https://localhost:8080/",
          "height": 136
        },
        "id": "lgrDAYBj7xur",
        "outputId": "cc88316e-7f7a-4bb2-aaf1-40d8670c127b"
      },
      "source": [
        "df2.head(3)"
      ],
      "execution_count": 20,
      "outputs": [
        {
          "output_type": "execute_result",
          "data": {
            "text/html": [
              "<div>\n",
              "<style scoped>\n",
              "    .dataframe tbody tr th:only-of-type {\n",
              "        vertical-align: middle;\n",
              "    }\n",
              "\n",
              "    .dataframe tbody tr th {\n",
              "        vertical-align: top;\n",
              "    }\n",
              "\n",
              "    .dataframe thead th {\n",
              "        text-align: right;\n",
              "    }\n",
              "</style>\n",
              "<table border=\"1\" class=\"dataframe\">\n",
              "  <thead>\n",
              "    <tr style=\"text-align: right;\">\n",
              "      <th></th>\n",
              "      <th>u</th>\n",
              "      <th>g</th>\n",
              "      <th>r</th>\n",
              "      <th>i</th>\n",
              "      <th>z</th>\n",
              "      <th>fiberMag_g</th>\n",
              "      <th>class</th>\n",
              "    </tr>\n",
              "  </thead>\n",
              "  <tbody>\n",
              "    <tr>\n",
              "      <th>0</th>\n",
              "      <td>17.98595</td>\n",
              "      <td>16.77582</td>\n",
              "      <td>16.22950</td>\n",
              "      <td>16.00589</td>\n",
              "      <td>15.89195</td>\n",
              "      <td>17.10288</td>\n",
              "      <td>STAR</td>\n",
              "    </tr>\n",
              "    <tr>\n",
              "      <th>1</th>\n",
              "      <td>19.23049</td>\n",
              "      <td>17.21716</td>\n",
              "      <td>16.38172</td>\n",
              "      <td>16.05841</td>\n",
              "      <td>15.88405</td>\n",
              "      <td>17.54239</td>\n",
              "      <td>STAR</td>\n",
              "    </tr>\n",
              "    <tr>\n",
              "      <th>2</th>\n",
              "      <td>18.12716</td>\n",
              "      <td>16.95737</td>\n",
              "      <td>16.40913</td>\n",
              "      <td>16.18926</td>\n",
              "      <td>16.05978</td>\n",
              "      <td>17.26884</td>\n",
              "      <td>STAR</td>\n",
              "    </tr>\n",
              "  </tbody>\n",
              "</table>\n",
              "</div>"
            ],
            "text/plain": [
              "          u         g         r         i         z  fiberMag_g class\n",
              "0  17.98595  16.77582  16.22950  16.00589  15.89195    17.10288  STAR\n",
              "1  19.23049  17.21716  16.38172  16.05841  15.88405    17.54239  STAR\n",
              "2  18.12716  16.95737  16.40913  16.18926  16.05978    17.26884  STAR"
            ]
          },
          "metadata": {
            "tags": []
          },
          "execution_count": 20
        }
      ]
    },
    {
      "cell_type": "code",
      "metadata": {
        "colab": {
          "base_uri": "https://localhost:8080/",
          "height": 432,
          "referenced_widgets": [
            "a9d62ed074284f5088df94080e66d457",
            "7098b2ea3012452bb9723eae33ced423",
            "3097b6cddddc492a9238f2344b830f37",
            "c95fb10b29d44a5f97fa44b0b20fb38e",
            "6ac713c0dd014dccbe48fc209730238c",
            "f2290548d824461ebb08d9df83aef616",
            "8b63b6dbc53549908763c97bf2fdae26",
            "2208fc6b947e4369afe2f438594d84e7",
            "92bd6f7ce3f6458ebe0c967f1d97e9ce"
          ]
        },
        "id": "FM7dBSX07p6h",
        "outputId": "d06263c6-b3ff-46d2-ac8a-5a8b3e106db6"
      },
      "source": [
        "from pycaret.classification import *\n",
        "k = setup(data = df2, target = 'class')\n",
        "# return best model\n",
        "best = compare_models()"
      ],
      "execution_count": 21,
      "outputs": [
        {
          "output_type": "display_data",
          "data": {
            "text/html": [
              "<div>\n",
              "<style scoped>\n",
              "    .dataframe tbody tr th:only-of-type {\n",
              "        vertical-align: middle;\n",
              "    }\n",
              "\n",
              "    .dataframe tbody tr th {\n",
              "        vertical-align: top;\n",
              "    }\n",
              "\n",
              "    .dataframe thead th {\n",
              "        text-align: right;\n",
              "    }\n",
              "</style>\n",
              "<table border=\"1\" class=\"dataframe\">\n",
              "  <thead>\n",
              "    <tr style=\"text-align: right;\">\n",
              "      <th></th>\n",
              "      <th>Model</th>\n",
              "      <th>Accuracy</th>\n",
              "      <th>AUC</th>\n",
              "      <th>Recall</th>\n",
              "      <th>Prec.</th>\n",
              "      <th>F1</th>\n",
              "      <th>Kappa</th>\n",
              "      <th>MCC</th>\n",
              "      <th>TT (Sec)</th>\n",
              "    </tr>\n",
              "  </thead>\n",
              "  <tbody>\n",
              "    <tr>\n",
              "      <th>et</th>\n",
              "      <td>Extra Trees Classifier</td>\n",
              "      <td>0.9671</td>\n",
              "      <td>0.9913</td>\n",
              "      <td>0.9120</td>\n",
              "      <td>0.9693</td>\n",
              "      <td>0.9667</td>\n",
              "      <td>0.9398</td>\n",
              "      <td>0.9410</td>\n",
              "      <td>0.278</td>\n",
              "    </tr>\n",
              "    <tr>\n",
              "      <th>lightgbm</th>\n",
              "      <td>Light Gradient Boosting Machine</td>\n",
              "      <td>0.9642</td>\n",
              "      <td>0.9913</td>\n",
              "      <td>0.9047</td>\n",
              "      <td>0.9660</td>\n",
              "      <td>0.9637</td>\n",
              "      <td>0.9348</td>\n",
              "      <td>0.9360</td>\n",
              "      <td>0.143</td>\n",
              "    </tr>\n",
              "    <tr>\n",
              "      <th>knn</th>\n",
              "      <td>K Neighbors Classifier</td>\n",
              "      <td>0.9599</td>\n",
              "      <td>0.9852</td>\n",
              "      <td>0.9274</td>\n",
              "      <td>0.9630</td>\n",
              "      <td>0.9602</td>\n",
              "      <td>0.9273</td>\n",
              "      <td>0.9285</td>\n",
              "      <td>0.072</td>\n",
              "    </tr>\n",
              "    <tr>\n",
              "      <th>lda</th>\n",
              "      <td>Linear Discriminant Analysis</td>\n",
              "      <td>0.9599</td>\n",
              "      <td>0.9854</td>\n",
              "      <td>0.9284</td>\n",
              "      <td>0.9633</td>\n",
              "      <td>0.9600</td>\n",
              "      <td>0.9269</td>\n",
              "      <td>0.9289</td>\n",
              "      <td>0.013</td>\n",
              "    </tr>\n",
              "    <tr>\n",
              "      <th>qda</th>\n",
              "      <td>Quadratic Discriminant Analysis</td>\n",
              "      <td>0.9585</td>\n",
              "      <td>0.9875</td>\n",
              "      <td>0.9139</td>\n",
              "      <td>0.9592</td>\n",
              "      <td>0.9581</td>\n",
              "      <td>0.9243</td>\n",
              "      <td>0.9248</td>\n",
              "      <td>0.013</td>\n",
              "    </tr>\n",
              "    <tr>\n",
              "      <th>rf</th>\n",
              "      <td>Random Forest Classifier</td>\n",
              "      <td>0.9557</td>\n",
              "      <td>0.9892</td>\n",
              "      <td>0.8984</td>\n",
              "      <td>0.9580</td>\n",
              "      <td>0.9555</td>\n",
              "      <td>0.9194</td>\n",
              "      <td>0.9205</td>\n",
              "      <td>0.314</td>\n",
              "    </tr>\n",
              "    <tr>\n",
              "      <th>gbc</th>\n",
              "      <td>Gradient Boosting Classifier</td>\n",
              "      <td>0.9543</td>\n",
              "      <td>0.9889</td>\n",
              "      <td>0.8734</td>\n",
              "      <td>0.9564</td>\n",
              "      <td>0.9536</td>\n",
              "      <td>0.9166</td>\n",
              "      <td>0.9179</td>\n",
              "      <td>0.245</td>\n",
              "    </tr>\n",
              "    <tr>\n",
              "      <th>lr</th>\n",
              "      <td>Logistic Regression</td>\n",
              "      <td>0.9542</td>\n",
              "      <td>0.9873</td>\n",
              "      <td>0.8628</td>\n",
              "      <td>0.9539</td>\n",
              "      <td>0.9522</td>\n",
              "      <td>0.9161</td>\n",
              "      <td>0.9175</td>\n",
              "      <td>0.406</td>\n",
              "    </tr>\n",
              "    <tr>\n",
              "      <th>dt</th>\n",
              "      <td>Decision Tree Classifier</td>\n",
              "      <td>0.9370</td>\n",
              "      <td>0.9483</td>\n",
              "      <td>0.8744</td>\n",
              "      <td>0.9395</td>\n",
              "      <td>0.9366</td>\n",
              "      <td>0.8863</td>\n",
              "      <td>0.8880</td>\n",
              "      <td>0.012</td>\n",
              "    </tr>\n",
              "    <tr>\n",
              "      <th>ridge</th>\n",
              "      <td>Ridge Classifier</td>\n",
              "      <td>0.9227</td>\n",
              "      <td>0.0000</td>\n",
              "      <td>0.6897</td>\n",
              "      <td>0.8930</td>\n",
              "      <td>0.9030</td>\n",
              "      <td>0.8539</td>\n",
              "      <td>0.8615</td>\n",
              "      <td>0.011</td>\n",
              "    </tr>\n",
              "    <tr>\n",
              "      <th>svm</th>\n",
              "      <td>SVM - Linear Kernel</td>\n",
              "      <td>0.8270</td>\n",
              "      <td>0.0000</td>\n",
              "      <td>0.6909</td>\n",
              "      <td>0.8140</td>\n",
              "      <td>0.7900</td>\n",
              "      <td>0.6887</td>\n",
              "      <td>0.7174</td>\n",
              "      <td>0.039</td>\n",
              "    </tr>\n",
              "    <tr>\n",
              "      <th>ada</th>\n",
              "      <td>Ada Boost Classifier</td>\n",
              "      <td>0.7725</td>\n",
              "      <td>0.8874</td>\n",
              "      <td>0.6112</td>\n",
              "      <td>0.7719</td>\n",
              "      <td>0.7540</td>\n",
              "      <td>0.5853</td>\n",
              "      <td>0.6068</td>\n",
              "      <td>0.067</td>\n",
              "    </tr>\n",
              "    <tr>\n",
              "      <th>nb</th>\n",
              "      <td>Naive Bayes</td>\n",
              "      <td>0.6880</td>\n",
              "      <td>0.8587</td>\n",
              "      <td>0.7345</td>\n",
              "      <td>0.7480</td>\n",
              "      <td>0.6932</td>\n",
              "      <td>0.4815</td>\n",
              "      <td>0.5016</td>\n",
              "      <td>0.012</td>\n",
              "    </tr>\n",
              "  </tbody>\n",
              "</table>\n",
              "</div>"
            ],
            "text/plain": [
              "                                    Model  Accuracy     AUC  Recall   Prec.  \\\n",
              "et                 Extra Trees Classifier    0.9671  0.9913  0.9120  0.9693   \n",
              "lightgbm  Light Gradient Boosting Machine    0.9642  0.9913  0.9047  0.9660   \n",
              "knn                K Neighbors Classifier    0.9599  0.9852  0.9274  0.9630   \n",
              "lda          Linear Discriminant Analysis    0.9599  0.9854  0.9284  0.9633   \n",
              "qda       Quadratic Discriminant Analysis    0.9585  0.9875  0.9139  0.9592   \n",
              "rf               Random Forest Classifier    0.9557  0.9892  0.8984  0.9580   \n",
              "gbc          Gradient Boosting Classifier    0.9543  0.9889  0.8734  0.9564   \n",
              "lr                    Logistic Regression    0.9542  0.9873  0.8628  0.9539   \n",
              "dt               Decision Tree Classifier    0.9370  0.9483  0.8744  0.9395   \n",
              "ridge                    Ridge Classifier    0.9227  0.0000  0.6897  0.8930   \n",
              "svm                   SVM - Linear Kernel    0.8270  0.0000  0.6909  0.8140   \n",
              "ada                  Ada Boost Classifier    0.7725  0.8874  0.6112  0.7719   \n",
              "nb                            Naive Bayes    0.6880  0.8587  0.7345  0.7480   \n",
              "\n",
              "              F1   Kappa     MCC  TT (Sec)  \n",
              "et        0.9667  0.9398  0.9410     0.278  \n",
              "lightgbm  0.9637  0.9348  0.9360     0.143  \n",
              "knn       0.9602  0.9273  0.9285     0.072  \n",
              "lda       0.9600  0.9269  0.9289     0.013  \n",
              "qda       0.9581  0.9243  0.9248     0.013  \n",
              "rf        0.9555  0.9194  0.9205     0.314  \n",
              "gbc       0.9536  0.9166  0.9179     0.245  \n",
              "lr        0.9522  0.9161  0.9175     0.406  \n",
              "dt        0.9366  0.8863  0.8880     0.012  \n",
              "ridge     0.9030  0.8539  0.8615     0.011  \n",
              "svm       0.7900  0.6887  0.7174     0.039  \n",
              "ada       0.7540  0.5853  0.6068     0.067  \n",
              "nb        0.6932  0.4815  0.5016     0.012  "
            ]
          },
          "metadata": {
            "tags": []
          }
        }
      ]
    },
    {
      "cell_type": "code",
      "metadata": {
        "id": "k2SMugl0Bo52"
      },
      "source": [
        ""
      ],
      "execution_count": 33,
      "outputs": []
    },
    {
      "cell_type": "markdown",
      "metadata": {
        "id": "Be4D21ayL1J6"
      },
      "source": [
        "#### Data analysis using individuak algorithms  - to be done at the time of analysis"
      ]
    },
    {
      "cell_type": "markdown",
      "metadata": {
        "id": "F-zCfvCU9xIs"
      },
      "source": [
        "##### Logistic regression model"
      ]
    },
    {
      "cell_type": "markdown",
      "metadata": {
        "id": "ne_rOzXB9zJc"
      },
      "source": [
        "##### Random Forest Model"
      ]
    },
    {
      "cell_type": "markdown",
      "metadata": {
        "id": "2Rl35Qpt91IE"
      },
      "source": [
        "##### Adaboost model"
      ]
    },
    {
      "cell_type": "markdown",
      "metadata": {
        "id": "IAjGSPFs93WG"
      },
      "source": [
        "##### Decision Tree model"
      ]
    },
    {
      "cell_type": "code",
      "metadata": {
        "id": "p6ueTXEMr4Rt"
      },
      "source": [
        ""
      ],
      "execution_count": 70,
      "outputs": []
    },
    {
      "cell_type": "code",
      "metadata": {
        "id": "ATIU71TQsENf"
      },
      "source": [
        ""
      ],
      "execution_count": null,
      "outputs": []
    }
  ]
}